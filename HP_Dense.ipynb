{
 "cells": [
  {
   "cell_type": "code",
   "execution_count": 1,
   "metadata": {
    "scrolled": true
   },
   "outputs": [
    {
     "name": "stderr",
     "output_type": "stream",
     "text": [
      "Using TensorFlow backend.\n",
      "  0%|          | 0/31072 [00:00<?, ?it/s]"
     ]
    },
    {
     "name": "stdout",
     "output_type": "stream",
     "text": [
      "make dataset for images  data_FULL_0_FLAG_NORMAL_MODE.h5\n"
     ]
    },
    {
     "name": "stderr",
     "output_type": "stream",
     "text": [
      " 79%|███████▊  | 24458/31072 [19:51<05:22, 20.53it/s]"
     ]
    },
    {
     "ename": "KeyboardInterrupt",
     "evalue": "",
     "output_type": "error",
     "traceback": [
      "\u001b[0;31m---------------------------------------------------------------------------\u001b[0m",
      "\u001b[0;31mKeyboardInterrupt\u001b[0m                         Traceback (most recent call last)",
      "\u001b[0;32m<ipython-input-1-40e1501bbaa4>\u001b[0m in \u001b[0;36m<module>\u001b[0;34m()\u001b[0m\n\u001b[1;32m    163\u001b[0m \u001b[0;32mif\u001b[0m \u001b[0;32mnot\u001b[0m \u001b[0mos\u001b[0m\u001b[0;34m.\u001b[0m\u001b[0mpath\u001b[0m\u001b[0;34m.\u001b[0m\u001b[0mexists\u001b[0m\u001b[0;34m(\u001b[0m\u001b[0mmodel_h5_path\u001b[0m\u001b[0;34m)\u001b[0m\u001b[0;34m:\u001b[0m\u001b[0;34m\u001b[0m\u001b[0m\n\u001b[1;32m    164\u001b[0m     \u001b[0mprint\u001b[0m\u001b[0;34m(\u001b[0m\u001b[0;34m'make dataset for images '\u001b[0m\u001b[0;34m,\u001b[0m \u001b[0mdata_name\u001b[0m\u001b[0;34m)\u001b[0m\u001b[0;34m\u001b[0m\u001b[0m\n\u001b[0;32m--> 165\u001b[0;31m     \u001b[0mload_hp_data_hd5_tf\u001b[0m\u001b[0;34m(\u001b[0m\u001b[0mFLAG_DATASET_IMAGE\u001b[0m\u001b[0;34m+\u001b[0m\u001b[0;34m'_0'\u001b[0m\u001b[0;34m,\u001b[0m \u001b[0mFLAS_HP_IMAGE_SIZE\u001b[0m\u001b[0;34m,\u001b[0m \u001b[0mLABEL_PATH\u001b[0m\u001b[0;34m,\u001b[0m \u001b[0mTAGS\u001b[0m\u001b[0;34m,\u001b[0m \u001b[0mmodel_h5_path\u001b[0m\u001b[0;34m)\u001b[0m\u001b[0;34m\u001b[0m\u001b[0m\n\u001b[0m\u001b[1;32m    166\u001b[0m \u001b[0;34m\u001b[0m\u001b[0m\n\u001b[1;32m    167\u001b[0m \u001b[0mtrain\u001b[0m\u001b[0;34m(\u001b[0m\u001b[0;34m)\u001b[0m\u001b[0;34m\u001b[0m\u001b[0m\n",
      "\u001b[0;32m~/DeepLearningCode/HumanProtein/data.py\u001b[0m in \u001b[0;36mload_hp_data_hd5_tf\u001b[0;34m(data_path, image_size, label_path, labels_size, hd5_name)\u001b[0m\n\u001b[1;32m     42\u001b[0m             \u001b[0mimg\u001b[0m \u001b[0;34m=\u001b[0m \u001b[0mcv2\u001b[0m\u001b[0;34m.\u001b[0m\u001b[0mimread\u001b[0m\u001b[0;34m(\u001b[0m\u001b[0mfile\u001b[0m\u001b[0;34m,\u001b[0m \u001b[0mcv2\u001b[0m\u001b[0;34m.\u001b[0m\u001b[0mIMREAD_GRAYSCALE\u001b[0m\u001b[0;34m)\u001b[0m\u001b[0;34m\u001b[0m\u001b[0m\n\u001b[1;32m     43\u001b[0m             \u001b[0;31m#print('print img shape = ', img.shape)\u001b[0m\u001b[0;34m\u001b[0m\u001b[0;34m\u001b[0m\u001b[0m\n\u001b[0;32m---> 44\u001b[0;31m             \u001b[0;31m#img = cv2.resize(img, (image_size, image_size))\u001b[0m\u001b[0;34m\u001b[0m\u001b[0;34m\u001b[0m\u001b[0m\n\u001b[0m\u001b[1;32m     45\u001b[0m \u001b[0;34m\u001b[0m\u001b[0m\n\u001b[1;32m     46\u001b[0m                 \u001b[0;31m#print('show origin image')\u001b[0m\u001b[0;34m\u001b[0m\u001b[0;34m\u001b[0m\u001b[0m\n",
      "\u001b[0;31mKeyboardInterrupt\u001b[0m: "
     ]
    }
   ],
   "source": [
    "from keras.models import *\n",
    "from keras.callbacks import *\n",
    "from keras import backend as K\n",
    "from data import *\n",
    "import cv2\n",
    "import argparse\n",
    "import h5py\n",
    "import matplotlib.pyplot as plt\n",
    "from time import sleep\n",
    "import numpy\n",
    "from sklearn.metrics import roc_curve, auc\n",
    "from scipy import interp\n",
    "from itertools import cycle\n",
    "from termcolor import colored\n",
    "numpy.set_printoptions(threshold=numpy.nan)\n",
    "from modelNIHDenseNet import *\n",
    "from pprint import pprint as pp\n",
    "from keras.preprocessing.image import ImageDataGenerator\n",
    "#from sklearn.utils import class_weight as cw\n",
    "import tensorflow as tf\n",
    "import random\n",
    "import time\n",
    "import json\n",
    "import pickle\n",
    "\n",
    "#FLAG_DATASET_PATH = 'data'\n",
    "FLAG_DATASET_PATH = '/mnt/DataStorage/HumanProtein/'\n",
    "os.environ[\"CUDA_VISIBLE_DEVICES\"]=\"0\"\n",
    "# set tensorflow don't use total GPU memory\n",
    "config = tf.ConfigProto()\n",
    "config.gpu_options.allow_growth=True\n",
    "sess = tf.Session(config=config)\n",
    "\n",
    "CAM_LAYER_NAME= {'vgg16':'block5_conv3', 'resnet50':'activation_49', 'nasnet_mobile':'normal_concat_12', 'densenet':'normal_concat_12'}\n",
    "FLAG_MODEL_CHOSEN = 'densenet'\n",
    "\n",
    "FLAG_TRAIN_BATCH_SIZE = 9\n",
    "FLAG_TRAIN_TOTAL_EPOCH = 200\n",
    "FLAG_CLASS_WEIGHT_SMOOTHING = 0.4\n",
    "FLAS_HP_IMAGE_SIZE = 512\n",
    "\n",
    "FLAG_DATA_MODE_INDEX = 0\n",
    "#FLAG_NORMAL_MODE = 0, FLAG_BINARY_MODE = 1, FLAG_ONLY_DISEASE_MODE = 2\n",
    "#current, only support normal mode\n",
    "FLAG_DATA_MODE = ['FLAG_NORMAL_MODE', 'FLAG_BINARY_MODE']\n",
    "\n",
    "LAST_MODEL_NAME = 'weights.epoch6.sub1.01-1.31.h5'\n",
    "LAST_MODEL_PATH = os.path.join('model', FLAG_MODEL_CHOSEN, LAST_MODEL_NAME)\n",
    "\n",
    "FLAG_TEST_DATA_MODE = False\n",
    "if not FLAG_TEST_DATA_MODE:\n",
    "    FLAG_DATASET_IMAGE = os.path.join(FLAG_DATASET_PATH, 'images')\n",
    "    Data_MODE = 'FULL'\n",
    "else:\n",
    "    FLAG_DATASET_IMAGE = os.path.join(FLAG_DATASET_PATH, 'images_test')  \n",
    "    Data_MODE = 'TEST'\n",
    "    \n",
    "LABEL_PATH = os.path.join(FLAG_DATASET_PATH, 'train.csv')\n",
    "\n",
    "TAGS = 28\n",
    "\n",
    "np.random.seed(2013)\n",
    "\n",
    "# set tensorflow don't use total GPU memory\n",
    "config = tf.ConfigProto()\n",
    "config.gpu_options.allow_growth=True\n",
    "sess = tf.Session(config=config)\n",
    "\n",
    "float_formatter = lambda x: \"%.5f\" % x\n",
    "np.set_printoptions(formatter={'float_kind':float_formatter})\n",
    "    \n",
    "def train():\n",
    "    model = get_model(TAGS, FLAS_HP_IMAGE_SIZE)\n",
    "    #model = load_model(LAST_MODEL_PATH, custom_objects={\"tf\": tf})\n",
    "\n",
    "    data_name = 'data_' + Data_MODE + '_0_' + FLAG_DATA_MODE[FLAG_DATA_MODE_INDEX] + '.h5'\n",
    "    print('train dataset for images ', data_name)\n",
    "    model_h5_path = os.path.join(FLAG_DATASET_PATH, data_name)\n",
    "    data_model = tables.open_file(model_h5_path, mode='a')\n",
    "    print('data size = ', len(data_model.root.data))\n",
    "\n",
    "    class_weight = create_class_weights(data_model.root.tag, FLAG_CLASS_WEIGHT_SMOOTHING)\n",
    "    pp(class_weight)\n",
    "    print('class_weight = ', class_weight)\n",
    "    \n",
    "    train_size = int(len(data_model.root.tag)*0.8)\n",
    "            \n",
    "    x = data_model.root.data[:train_size]\n",
    "    y = data_model.root.tag[:train_size]\n",
    "\n",
    "    data_gen_args = dict(zoom_range=[0.8, 1.2], horizontal_flip=True, vertical_flip=True, rotation_range=360) \n",
    "    \n",
    "    image_datagen = ImageDataGenerator(**data_gen_args)\n",
    "    image_datagen.fit(x)\n",
    "\n",
    "    seed = random.randint(0,9999)\n",
    "    image_generator = image_datagen.flow(x, y, seed=seed, batch_size=FLAG_TRAIN_BATCH_SIZE)\n",
    "    \n",
    "    validation_x = data_model.root.data[train_size:]\n",
    "    validation_y = data_model.root.tag[train_size:]\n",
    "    \n",
    "    data_model.close() \n",
    "                    \n",
    "    print(\"Training..\")\n",
    "    model_weight_name = 'weights.epoch.sub.{epoch:02d}-{val_f1:.2f}.h5'\n",
    "    checkpoint_path = os.path.join('model', FLAG_MODEL_CHOSEN, model_weight_name)\n",
    "    print('checkpoint_path = ', checkpoint_path)\n",
    "    cp = ModelCheckpoint(checkpoint_path, monitor='val_f1', verbose=0, \n",
    "                         save_best_only=True, save_weights_only=False, mode='max')\n",
    "    es = EarlyStopping(monitor='val_f1', min_delta=0, patience=15, verbose=0, mode='max')\n",
    "            \n",
    "    history = model.fit_generator(\n",
    "        image_generator,\n",
    "        validation_data=(validation_x, validation_y), \n",
    "        steps_per_epoch=len(x) / FLAG_TRAIN_BATCH_SIZE, \n",
    "        epochs=FLAG_TRAIN_TOTAL_EPOCH,\n",
    "        verbose=1,\n",
    "        callbacks=[cp, es])\n",
    "\n",
    "    plotHis(history.history)\n",
    "\n",
    "def create_class_weights(y, smooth_factor=0.2):\n",
    "    tags_count = np.zeros(TAGS) \n",
    "    for label in y:\n",
    "        tags_count[:TAGS] += label\n",
    "    \n",
    "    #print(tags_count)\n",
    "    \n",
    "    counter = {}\n",
    "    for i in range(TAGS):\n",
    "        counter[i] = tags_count[i]\n",
    "    #print(counter)\n",
    "    \n",
    "    if smooth_factor > 0:\n",
    "        p = max(counter.values()) * smooth_factor\n",
    "        for k in counter.keys():\n",
    "            counter[k] += p\n",
    "    majority = max(counter.values())\n",
    "    return {cls: float(majority / count) for cls, count in counter.items()}\n",
    "\n",
    "def plotHis(history):\n",
    "    # summarize history for accuracy\n",
    "    plt.plot(history['f1'])\n",
    "    plt.plot(history['val_f1'])\n",
    "    plt.title('model f1')\n",
    "    plt.ylabel('f1')\n",
    "    plt.xlabel('epoch')\n",
    "    plt.legend(['train', 'test'], loc='upper left')\n",
    "    plt.show()\n",
    "    # summarize history for loss\n",
    "    plt.plot(history['loss'])\n",
    "    plt.plot(history['val_loss'])\n",
    "    plt.title('model loss')\n",
    "    plt.ylabel('loss')\n",
    "    plt.xlabel('epoch')\n",
    "    plt.legend(['train', 'test'], loc='upper left')\n",
    "    plt.show()\n",
    "\n",
    "start_time = time.time()\n",
    "\n",
    "data_name = 'data_' + Data_MODE + '_0_' + FLAG_DATA_MODE[FLAG_DATA_MODE_INDEX] + '.h5'\n",
    "model_h5_path = os.path.join(FLAG_DATASET_PATH, data_name)\n",
    "if not os.path.exists(model_h5_path):\n",
    "    print('make dataset for images ', data_name)\n",
    "    load_hp_data_hd5_tf(FLAG_DATASET_IMAGE+'_0', FLAS_HP_IMAGE_SIZE, LABEL_PATH, TAGS, model_h5_path)\n",
    "\n",
    "train()\n",
    "\n",
    "print(\"--- %s seconds ---\" % (time.time() - start_time))"
   ]
  },
  {
   "cell_type": "code",
   "execution_count": null,
   "metadata": {
    "collapsed": true
   },
   "outputs": [],
   "source": []
  },
  {
   "cell_type": "code",
   "execution_count": null,
   "metadata": {
    "collapsed": true
   },
   "outputs": [],
   "source": []
  },
  {
   "cell_type": "code",
   "execution_count": null,
   "metadata": {
    "collapsed": true
   },
   "outputs": [],
   "source": []
  },
  {
   "cell_type": "code",
   "execution_count": null,
   "metadata": {
    "collapsed": true
   },
   "outputs": [],
   "source": []
  },
  {
   "cell_type": "code",
   "execution_count": null,
   "metadata": {
    "collapsed": true
   },
   "outputs": [],
   "source": []
  },
  {
   "cell_type": "code",
   "execution_count": null,
   "metadata": {
    "collapsed": true
   },
   "outputs": [],
   "source": []
  },
  {
   "cell_type": "code",
   "execution_count": null,
   "metadata": {
    "collapsed": true
   },
   "outputs": [],
   "source": []
  },
  {
   "cell_type": "code",
   "execution_count": null,
   "metadata": {
    "collapsed": true
   },
   "outputs": [],
   "source": []
  },
  {
   "cell_type": "code",
   "execution_count": null,
   "metadata": {
    "collapsed": true
   },
   "outputs": [],
   "source": []
  },
  {
   "cell_type": "code",
   "execution_count": null,
   "metadata": {
    "collapsed": true
   },
   "outputs": [],
   "source": []
  },
  {
   "cell_type": "code",
   "execution_count": null,
   "metadata": {
    "collapsed": true
   },
   "outputs": [],
   "source": []
  },
  {
   "cell_type": "code",
   "execution_count": null,
   "metadata": {
    "collapsed": true
   },
   "outputs": [],
   "source": []
  },
  {
   "cell_type": "code",
   "execution_count": null,
   "metadata": {
    "collapsed": true
   },
   "outputs": [],
   "source": []
  },
  {
   "cell_type": "code",
   "execution_count": null,
   "metadata": {
    "collapsed": true
   },
   "outputs": [],
   "source": []
  }
 ],
 "metadata": {
  "kernelspec": {
   "display_name": "Python 3",
   "language": "python",
   "name": "python3"
  },
  "language_info": {
   "codemirror_mode": {
    "name": "ipython",
    "version": 3
   },
   "file_extension": ".py",
   "mimetype": "text/x-python",
   "name": "python",
   "nbconvert_exporter": "python",
   "pygments_lexer": "ipython3",
   "version": "3.5.2"
  }
 },
 "nbformat": 4,
 "nbformat_minor": 2
}
