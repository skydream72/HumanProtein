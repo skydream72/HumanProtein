{
 "cells": [
  {
   "cell_type": "code",
   "execution_count": 1,
   "metadata": {
    "scrolled": true
   },
   "outputs": [
    {
     "name": "stderr",
     "output_type": "stream",
     "text": [
      "Using TensorFlow backend.\n"
     ]
    },
    {
     "name": "stdout",
     "output_type": "stream",
     "text": [
      "new layer name =  image_input  layer.trainable =  False\n",
      "new layer name =  zero_padding2d_1  layer.trainable =  True\n",
      "new layer name =  conv1/conv  layer.trainable =  True\n",
      "new layer name =  conv1/bn  layer.trainable =  True\n",
      "new layer name =  conv1/relu  layer.trainable =  True\n",
      "new layer name =  zero_padding2d_2  layer.trainable =  True\n",
      "new layer name =  pool1  layer.trainable =  True\n",
      "new layer name =  conv2_block1_0_bn  layer.trainable =  True\n",
      "new layer name =  conv2_block1_0_relu  layer.trainable =  True\n",
      "new layer name =  conv2_block1_1_conv  layer.trainable =  True\n",
      "new layer name =  conv2_block1_1_bn  layer.trainable =  True\n",
      "new layer name =  conv2_block1_1_relu  layer.trainable =  True\n",
      "new layer name =  conv2_block1_2_conv  layer.trainable =  True\n",
      "new layer name =  conv2_block1_concat  layer.trainable =  True\n",
      "new layer name =  conv2_block2_0_bn  layer.trainable =  True\n",
      "new layer name =  conv2_block2_0_relu  layer.trainable =  True\n",
      "new layer name =  conv2_block2_1_conv  layer.trainable =  True\n",
      "new layer name =  conv2_block2_1_bn  layer.trainable =  True\n",
      "new layer name =  conv2_block2_1_relu  layer.trainable =  True\n",
      "new layer name =  conv2_block2_2_conv  layer.trainable =  True\n",
      "new layer name =  conv2_block2_concat  layer.trainable =  True\n",
      "new layer name =  conv2_block3_0_bn  layer.trainable =  True\n",
      "new layer name =  conv2_block3_0_relu  layer.trainable =  True\n",
      "new layer name =  conv2_block3_1_conv  layer.trainable =  True\n",
      "new layer name =  conv2_block3_1_bn  layer.trainable =  True\n",
      "new layer name =  conv2_block3_1_relu  layer.trainable =  True\n",
      "new layer name =  conv2_block3_2_conv  layer.trainable =  True\n",
      "new layer name =  conv2_block3_concat  layer.trainable =  True\n",
      "new layer name =  conv2_block4_0_bn  layer.trainable =  True\n",
      "new layer name =  conv2_block4_0_relu  layer.trainable =  True\n",
      "new layer name =  conv2_block4_1_conv  layer.trainable =  True\n",
      "new layer name =  conv2_block4_1_bn  layer.trainable =  True\n",
      "new layer name =  conv2_block4_1_relu  layer.trainable =  True\n",
      "new layer name =  conv2_block4_2_conv  layer.trainable =  True\n",
      "new layer name =  conv2_block4_concat  layer.trainable =  True\n",
      "new layer name =  conv2_block5_0_bn  layer.trainable =  True\n",
      "new layer name =  conv2_block5_0_relu  layer.trainable =  True\n",
      "new layer name =  conv2_block5_1_conv  layer.trainable =  True\n",
      "new layer name =  conv2_block5_1_bn  layer.trainable =  True\n",
      "new layer name =  conv2_block5_1_relu  layer.trainable =  True\n",
      "new layer name =  conv2_block5_2_conv  layer.trainable =  True\n",
      "new layer name =  conv2_block5_concat  layer.trainable =  True\n",
      "new layer name =  conv2_block6_0_bn  layer.trainable =  True\n",
      "new layer name =  conv2_block6_0_relu  layer.trainable =  True\n",
      "new layer name =  conv2_block6_1_conv  layer.trainable =  True\n",
      "new layer name =  conv2_block6_1_bn  layer.trainable =  True\n",
      "new layer name =  conv2_block6_1_relu  layer.trainable =  True\n",
      "new layer name =  conv2_block6_2_conv  layer.trainable =  True\n",
      "new layer name =  conv2_block6_concat  layer.trainable =  True\n",
      "new layer name =  pool2_bn  layer.trainable =  True\n",
      "new layer name =  pool2_relu  layer.trainable =  True\n",
      "new layer name =  pool2_conv  layer.trainable =  True\n",
      "new layer name =  pool2_pool  layer.trainable =  True\n",
      "new layer name =  conv3_block1_0_bn  layer.trainable =  True\n",
      "new layer name =  conv3_block1_0_relu  layer.trainable =  True\n",
      "new layer name =  conv3_block1_1_conv  layer.trainable =  True\n",
      "new layer name =  conv3_block1_1_bn  layer.trainable =  True\n",
      "new layer name =  conv3_block1_1_relu  layer.trainable =  True\n",
      "new layer name =  conv3_block1_2_conv  layer.trainable =  True\n",
      "new layer name =  conv3_block1_concat  layer.trainable =  True\n",
      "new layer name =  conv3_block2_0_bn  layer.trainable =  True\n",
      "new layer name =  conv3_block2_0_relu  layer.trainable =  True\n",
      "new layer name =  conv3_block2_1_conv  layer.trainable =  True\n",
      "new layer name =  conv3_block2_1_bn  layer.trainable =  True\n",
      "new layer name =  conv3_block2_1_relu  layer.trainable =  True\n",
      "new layer name =  conv3_block2_2_conv  layer.trainable =  True\n",
      "new layer name =  conv3_block2_concat  layer.trainable =  True\n",
      "new layer name =  conv3_block3_0_bn  layer.trainable =  True\n",
      "new layer name =  conv3_block3_0_relu  layer.trainable =  True\n",
      "new layer name =  conv3_block3_1_conv  layer.trainable =  True\n",
      "new layer name =  conv3_block3_1_bn  layer.trainable =  True\n",
      "new layer name =  conv3_block3_1_relu  layer.trainable =  True\n",
      "new layer name =  conv3_block3_2_conv  layer.trainable =  True\n",
      "new layer name =  conv3_block3_concat  layer.trainable =  True\n",
      "new layer name =  conv3_block4_0_bn  layer.trainable =  True\n",
      "new layer name =  conv3_block4_0_relu  layer.trainable =  True\n",
      "new layer name =  conv3_block4_1_conv  layer.trainable =  True\n",
      "new layer name =  conv3_block4_1_bn  layer.trainable =  True\n",
      "new layer name =  conv3_block4_1_relu  layer.trainable =  True\n",
      "new layer name =  conv3_block4_2_conv  layer.trainable =  True\n",
      "new layer name =  conv3_block4_concat  layer.trainable =  True\n",
      "new layer name =  conv3_block5_0_bn  layer.trainable =  True\n",
      "new layer name =  conv3_block5_0_relu  layer.trainable =  True\n",
      "new layer name =  conv3_block5_1_conv  layer.trainable =  True\n",
      "new layer name =  conv3_block5_1_bn  layer.trainable =  True\n",
      "new layer name =  conv3_block5_1_relu  layer.trainable =  True\n",
      "new layer name =  conv3_block5_2_conv  layer.trainable =  True\n",
      "new layer name =  conv3_block5_concat  layer.trainable =  True\n",
      "new layer name =  conv3_block6_0_bn  layer.trainable =  True\n",
      "new layer name =  conv3_block6_0_relu  layer.trainable =  True\n",
      "new layer name =  conv3_block6_1_conv  layer.trainable =  True\n",
      "new layer name =  conv3_block6_1_bn  layer.trainable =  True\n",
      "new layer name =  conv3_block6_1_relu  layer.trainable =  True\n",
      "new layer name =  conv3_block6_2_conv  layer.trainable =  True\n",
      "new layer name =  conv3_block6_concat  layer.trainable =  True\n",
      "new layer name =  conv3_block7_0_bn  layer.trainable =  True\n",
      "new layer name =  conv3_block7_0_relu  layer.trainable =  True\n",
      "new layer name =  conv3_block7_1_conv  layer.trainable =  True\n",
      "new layer name =  conv3_block7_1_bn  layer.trainable =  True\n",
      "new layer name =  conv3_block7_1_relu  layer.trainable =  True\n",
      "new layer name =  conv3_block7_2_conv  layer.trainable =  True\n",
      "new layer name =  conv3_block7_concat  layer.trainable =  True\n",
      "new layer name =  conv3_block8_0_bn  layer.trainable =  True\n",
      "new layer name =  conv3_block8_0_relu  layer.trainable =  True\n",
      "new layer name =  conv3_block8_1_conv  layer.trainable =  True\n",
      "new layer name =  conv3_block8_1_bn  layer.trainable =  True\n",
      "new layer name =  conv3_block8_1_relu  layer.trainable =  True\n",
      "new layer name =  conv3_block8_2_conv  layer.trainable =  True\n",
      "new layer name =  conv3_block8_concat  layer.trainable =  True\n",
      "new layer name =  conv3_block9_0_bn  layer.trainable =  True\n",
      "new layer name =  conv3_block9_0_relu  layer.trainable =  True\n",
      "new layer name =  conv3_block9_1_conv  layer.trainable =  True\n",
      "new layer name =  conv3_block9_1_bn  layer.trainable =  True\n",
      "new layer name =  conv3_block9_1_relu  layer.trainable =  True\n",
      "new layer name =  conv3_block9_2_conv  layer.trainable =  True\n",
      "new layer name =  conv3_block9_concat  layer.trainable =  True\n",
      "new layer name =  conv3_block10_0_bn  layer.trainable =  True\n",
      "new layer name =  conv3_block10_0_relu  layer.trainable =  True\n",
      "new layer name =  conv3_block10_1_conv  layer.trainable =  True\n",
      "new layer name =  conv3_block10_1_bn  layer.trainable =  True\n",
      "new layer name =  conv3_block10_1_relu  layer.trainable =  True\n",
      "new layer name =  conv3_block10_2_conv  layer.trainable =  True\n",
      "new layer name =  conv3_block10_concat  layer.trainable =  True\n",
      "new layer name =  conv3_block11_0_bn  layer.trainable =  True\n",
      "new layer name =  conv3_block11_0_relu  layer.trainable =  True\n",
      "new layer name =  conv3_block11_1_conv  layer.trainable =  True\n",
      "new layer name =  conv3_block11_1_bn  layer.trainable =  True\n",
      "new layer name =  conv3_block11_1_relu  layer.trainable =  True\n",
      "new layer name =  conv3_block11_2_conv  layer.trainable =  True\n",
      "new layer name =  conv3_block11_concat  layer.trainable =  True\n",
      "new layer name =  conv3_block12_0_bn  layer.trainable =  True\n",
      "new layer name =  conv3_block12_0_relu  layer.trainable =  True\n",
      "new layer name =  conv3_block12_1_conv  layer.trainable =  True\n",
      "new layer name =  conv3_block12_1_bn  layer.trainable =  True\n",
      "new layer name =  conv3_block12_1_relu  layer.trainable =  True\n",
      "new layer name =  conv3_block12_2_conv  layer.trainable =  True\n",
      "new layer name =  conv3_block12_concat  layer.trainable =  True\n",
      "new layer name =  pool3_bn  layer.trainable =  True\n",
      "new layer name =  pool3_relu  layer.trainable =  True\n",
      "new layer name =  pool3_conv  layer.trainable =  True\n",
      "new layer name =  pool3_pool  layer.trainable =  True\n",
      "new layer name =  conv4_block1_0_bn  layer.trainable =  True\n",
      "new layer name =  conv4_block1_0_relu  layer.trainable =  True\n",
      "new layer name =  conv4_block1_1_conv  layer.trainable =  True\n",
      "new layer name =  conv4_block1_1_bn  layer.trainable =  True\n",
      "new layer name =  conv4_block1_1_relu  layer.trainable =  True\n",
      "new layer name =  conv4_block1_2_conv  layer.trainable =  True\n",
      "new layer name =  conv4_block1_concat  layer.trainable =  True\n",
      "new layer name =  conv4_block2_0_bn  layer.trainable =  True\n",
      "new layer name =  conv4_block2_0_relu  layer.trainable =  True\n",
      "new layer name =  conv4_block2_1_conv  layer.trainable =  True\n",
      "new layer name =  conv4_block2_1_bn  layer.trainable =  True\n",
      "new layer name =  conv4_block2_1_relu  layer.trainable =  True\n",
      "new layer name =  conv4_block2_2_conv  layer.trainable =  True\n",
      "new layer name =  conv4_block2_concat  layer.trainable =  True\n",
      "new layer name =  conv4_block3_0_bn  layer.trainable =  True\n",
      "new layer name =  conv4_block3_0_relu  layer.trainable =  True\n",
      "new layer name =  conv4_block3_1_conv  layer.trainable =  True\n",
      "new layer name =  conv4_block3_1_bn  layer.trainable =  True\n",
      "new layer name =  conv4_block3_1_relu  layer.trainable =  True\n",
      "new layer name =  conv4_block3_2_conv  layer.trainable =  True\n",
      "new layer name =  conv4_block3_concat  layer.trainable =  True\n",
      "new layer name =  conv4_block4_0_bn  layer.trainable =  True\n",
      "new layer name =  conv4_block4_0_relu  layer.trainable =  True\n",
      "new layer name =  conv4_block4_1_conv  layer.trainable =  True\n",
      "new layer name =  conv4_block4_1_bn  layer.trainable =  True\n",
      "new layer name =  conv4_block4_1_relu  layer.trainable =  True\n",
      "new layer name =  conv4_block4_2_conv  layer.trainable =  True\n",
      "new layer name =  conv4_block4_concat  layer.trainable =  True\n",
      "new layer name =  conv4_block5_0_bn  layer.trainable =  True\n",
      "new layer name =  conv4_block5_0_relu  layer.trainable =  True\n",
      "new layer name =  conv4_block5_1_conv  layer.trainable =  True\n",
      "new layer name =  conv4_block5_1_bn  layer.trainable =  True\n",
      "new layer name =  conv4_block5_1_relu  layer.trainable =  True\n",
      "new layer name =  conv4_block5_2_conv  layer.trainable =  True\n",
      "new layer name =  conv4_block5_concat  layer.trainable =  True\n",
      "new layer name =  conv4_block6_0_bn  layer.trainable =  True\n",
      "new layer name =  conv4_block6_0_relu  layer.trainable =  True\n",
      "new layer name =  conv4_block6_1_conv  layer.trainable =  True\n",
      "new layer name =  conv4_block6_1_bn  layer.trainable =  True\n",
      "new layer name =  conv4_block6_1_relu  layer.trainable =  True\n",
      "new layer name =  conv4_block6_2_conv  layer.trainable =  True\n",
      "new layer name =  conv4_block6_concat  layer.trainable =  True\n",
      "new layer name =  conv4_block7_0_bn  layer.trainable =  True\n",
      "new layer name =  conv4_block7_0_relu  layer.trainable =  True\n",
      "new layer name =  conv4_block7_1_conv  layer.trainable =  True\n",
      "new layer name =  conv4_block7_1_bn  layer.trainable =  True\n",
      "new layer name =  conv4_block7_1_relu  layer.trainable =  True\n",
      "new layer name =  conv4_block7_2_conv  layer.trainable =  True\n",
      "new layer name =  conv4_block7_concat  layer.trainable =  True\n",
      "new layer name =  conv4_block8_0_bn  layer.trainable =  True\n",
      "new layer name =  conv4_block8_0_relu  layer.trainable =  True\n",
      "new layer name =  conv4_block8_1_conv  layer.trainable =  True\n",
      "new layer name =  conv4_block8_1_bn  layer.trainable =  True\n",
      "new layer name =  conv4_block8_1_relu  layer.trainable =  True\n",
      "new layer name =  conv4_block8_2_conv  layer.trainable =  True\n",
      "new layer name =  conv4_block8_concat  layer.trainable =  True\n",
      "new layer name =  conv4_block9_0_bn  layer.trainable =  True\n",
      "new layer name =  conv4_block9_0_relu  layer.trainable =  True\n",
      "new layer name =  conv4_block9_1_conv  layer.trainable =  True\n",
      "new layer name =  conv4_block9_1_bn  layer.trainable =  True\n",
      "new layer name =  conv4_block9_1_relu  layer.trainable =  True\n",
      "new layer name =  conv4_block9_2_conv  layer.trainable =  True\n",
      "new layer name =  conv4_block9_concat  layer.trainable =  True\n",
      "new layer name =  conv4_block10_0_bn  layer.trainable =  True\n",
      "new layer name =  conv4_block10_0_relu  layer.trainable =  True\n",
      "new layer name =  conv4_block10_1_conv  layer.trainable =  True\n",
      "new layer name =  conv4_block10_1_bn  layer.trainable =  True\n",
      "new layer name =  conv4_block10_1_relu  layer.trainable =  True\n",
      "new layer name =  conv4_block10_2_conv  layer.trainable =  True\n",
      "new layer name =  conv4_block10_concat  layer.trainable =  True\n",
      "new layer name =  conv4_block11_0_bn  layer.trainable =  True\n",
      "new layer name =  conv4_block11_0_relu  layer.trainable =  True\n",
      "new layer name =  conv4_block11_1_conv  layer.trainable =  True\n",
      "new layer name =  conv4_block11_1_bn  layer.trainable =  True\n",
      "new layer name =  conv4_block11_1_relu  layer.trainable =  True\n",
      "new layer name =  conv4_block11_2_conv  layer.trainable =  True\n",
      "new layer name =  conv4_block11_concat  layer.trainable =  True\n",
      "new layer name =  conv4_block12_0_bn  layer.trainable =  True\n",
      "new layer name =  conv4_block12_0_relu  layer.trainable =  True\n",
      "new layer name =  conv4_block12_1_conv  layer.trainable =  True\n",
      "new layer name =  conv4_block12_1_bn  layer.trainable =  True\n",
      "new layer name =  conv4_block12_1_relu  layer.trainable =  True\n",
      "new layer name =  conv4_block12_2_conv  layer.trainable =  True\n",
      "new layer name =  conv4_block12_concat  layer.trainable =  True\n",
      "new layer name =  conv4_block13_0_bn  layer.trainable =  True\n",
      "new layer name =  conv4_block13_0_relu  layer.trainable =  True\n",
      "new layer name =  conv4_block13_1_conv  layer.trainable =  True\n",
      "new layer name =  conv4_block13_1_bn  layer.trainable =  True\n",
      "new layer name =  conv4_block13_1_relu  layer.trainable =  True\n",
      "new layer name =  conv4_block13_2_conv  layer.trainable =  True\n",
      "new layer name =  conv4_block13_concat  layer.trainable =  True\n",
      "new layer name =  conv4_block14_0_bn  layer.trainable =  True\n",
      "new layer name =  conv4_block14_0_relu  layer.trainable =  True\n",
      "new layer name =  conv4_block14_1_conv  layer.trainable =  True\n",
      "new layer name =  conv4_block14_1_bn  layer.trainable =  True\n",
      "new layer name =  conv4_block14_1_relu  layer.trainable =  True\n",
      "new layer name =  conv4_block14_2_conv  layer.trainable =  True\n",
      "new layer name =  conv4_block14_concat  layer.trainable =  True\n",
      "new layer name =  conv4_block15_0_bn  layer.trainable =  True\n",
      "new layer name =  conv4_block15_0_relu  layer.trainable =  True\n",
      "new layer name =  conv4_block15_1_conv  layer.trainable =  True\n",
      "new layer name =  conv4_block15_1_bn  layer.trainable =  True\n",
      "new layer name =  conv4_block15_1_relu  layer.trainable =  True\n",
      "new layer name =  conv4_block15_2_conv  layer.trainable =  True\n",
      "new layer name =  conv4_block15_concat  layer.trainable =  True\n",
      "new layer name =  conv4_block16_0_bn  layer.trainable =  True\n",
      "new layer name =  conv4_block16_0_relu  layer.trainable =  True\n",
      "new layer name =  conv4_block16_1_conv  layer.trainable =  True\n",
      "new layer name =  conv4_block16_1_bn  layer.trainable =  True\n",
      "new layer name =  conv4_block16_1_relu  layer.trainable =  True\n",
      "new layer name =  conv4_block16_2_conv  layer.trainable =  True\n",
      "new layer name =  conv4_block16_concat  layer.trainable =  True\n",
      "new layer name =  conv4_block17_0_bn  layer.trainable =  True\n",
      "new layer name =  conv4_block17_0_relu  layer.trainable =  True\n",
      "new layer name =  conv4_block17_1_conv  layer.trainable =  True\n",
      "new layer name =  conv4_block17_1_bn  layer.trainable =  True\n",
      "new layer name =  conv4_block17_1_relu  layer.trainable =  True\n",
      "new layer name =  conv4_block17_2_conv  layer.trainable =  True\n",
      "new layer name =  conv4_block17_concat  layer.trainable =  True\n",
      "new layer name =  conv4_block18_0_bn  layer.trainable =  True\n",
      "new layer name =  conv4_block18_0_relu  layer.trainable =  True\n",
      "new layer name =  conv4_block18_1_conv  layer.trainable =  True\n",
      "new layer name =  conv4_block18_1_bn  layer.trainable =  True\n",
      "new layer name =  conv4_block18_1_relu  layer.trainable =  True\n",
      "new layer name =  conv4_block18_2_conv  layer.trainable =  True\n",
      "new layer name =  conv4_block18_concat  layer.trainable =  True\n",
      "new layer name =  conv4_block19_0_bn  layer.trainable =  True\n",
      "new layer name =  conv4_block19_0_relu  layer.trainable =  True\n",
      "new layer name =  conv4_block19_1_conv  layer.trainable =  True\n",
      "new layer name =  conv4_block19_1_bn  layer.trainable =  True\n",
      "new layer name =  conv4_block19_1_relu  layer.trainable =  True\n",
      "new layer name =  conv4_block19_2_conv  layer.trainable =  True\n",
      "new layer name =  conv4_block19_concat  layer.trainable =  True\n",
      "new layer name =  conv4_block20_0_bn  layer.trainable =  True\n",
      "new layer name =  conv4_block20_0_relu  layer.trainable =  True\n",
      "new layer name =  conv4_block20_1_conv  layer.trainable =  True\n",
      "new layer name =  conv4_block20_1_bn  layer.trainable =  True\n",
      "new layer name =  conv4_block20_1_relu  layer.trainable =  True\n",
      "new layer name =  conv4_block20_2_conv  layer.trainable =  True\n",
      "new layer name =  conv4_block20_concat  layer.trainable =  True\n",
      "new layer name =  conv4_block21_0_bn  layer.trainable =  True\n",
      "new layer name =  conv4_block21_0_relu  layer.trainable =  True\n",
      "new layer name =  conv4_block21_1_conv  layer.trainable =  True\n",
      "new layer name =  conv4_block21_1_bn  layer.trainable =  True\n",
      "new layer name =  conv4_block21_1_relu  layer.trainable =  True\n",
      "new layer name =  conv4_block21_2_conv  layer.trainable =  True\n",
      "new layer name =  conv4_block21_concat  layer.trainable =  True\n",
      "new layer name =  conv4_block22_0_bn  layer.trainable =  True\n",
      "new layer name =  conv4_block22_0_relu  layer.trainable =  True\n",
      "new layer name =  conv4_block22_1_conv  layer.trainable =  True\n",
      "new layer name =  conv4_block22_1_bn  layer.trainable =  True\n",
      "new layer name =  conv4_block22_1_relu  layer.trainable =  True\n",
      "new layer name =  conv4_block22_2_conv  layer.trainable =  True\n",
      "new layer name =  conv4_block22_concat  layer.trainable =  True\n",
      "new layer name =  conv4_block23_0_bn  layer.trainable =  True\n",
      "new layer name =  conv4_block23_0_relu  layer.trainable =  True\n",
      "new layer name =  conv4_block23_1_conv  layer.trainable =  True\n",
      "new layer name =  conv4_block23_1_bn  layer.trainable =  True\n",
      "new layer name =  conv4_block23_1_relu  layer.trainable =  True\n",
      "new layer name =  conv4_block23_2_conv  layer.trainable =  True\n",
      "new layer name =  conv4_block23_concat  layer.trainable =  True\n",
      "new layer name =  conv4_block24_0_bn  layer.trainable =  True\n",
      "new layer name =  conv4_block24_0_relu  layer.trainable =  True\n",
      "new layer name =  conv4_block24_1_conv  layer.trainable =  True\n",
      "new layer name =  conv4_block24_1_bn  layer.trainable =  True\n",
      "new layer name =  conv4_block24_1_relu  layer.trainable =  True\n",
      "new layer name =  conv4_block24_2_conv  layer.trainable =  True\n",
      "new layer name =  conv4_block24_concat  layer.trainable =  True\n",
      "new layer name =  conv4_block25_0_bn  layer.trainable =  True\n",
      "new layer name =  conv4_block25_0_relu  layer.trainable =  True\n",
      "new layer name =  conv4_block25_1_conv  layer.trainable =  True\n",
      "new layer name =  conv4_block25_1_bn  layer.trainable =  True\n",
      "new layer name =  conv4_block25_1_relu  layer.trainable =  True\n",
      "new layer name =  conv4_block25_2_conv  layer.trainable =  True\n",
      "new layer name =  conv4_block25_concat  layer.trainable =  True\n",
      "new layer name =  conv4_block26_0_bn  layer.trainable =  True\n",
      "new layer name =  conv4_block26_0_relu  layer.trainable =  True\n",
      "new layer name =  conv4_block26_1_conv  layer.trainable =  True\n",
      "new layer name =  conv4_block26_1_bn  layer.trainable =  True\n",
      "new layer name =  conv4_block26_1_relu  layer.trainable =  True\n",
      "new layer name =  conv4_block26_2_conv  layer.trainable =  True\n",
      "new layer name =  conv4_block26_concat  layer.trainable =  True\n",
      "new layer name =  conv4_block27_0_bn  layer.trainable =  True\n",
      "new layer name =  conv4_block27_0_relu  layer.trainable =  True\n",
      "new layer name =  conv4_block27_1_conv  layer.trainable =  True\n",
      "new layer name =  conv4_block27_1_bn  layer.trainable =  True\n",
      "new layer name =  conv4_block27_1_relu  layer.trainable =  True\n",
      "new layer name =  conv4_block27_2_conv  layer.trainable =  True\n",
      "new layer name =  conv4_block27_concat  layer.trainable =  True\n",
      "new layer name =  conv4_block28_0_bn  layer.trainable =  True\n",
      "new layer name =  conv4_block28_0_relu  layer.trainable =  True\n",
      "new layer name =  conv4_block28_1_conv  layer.trainable =  True\n",
      "new layer name =  conv4_block28_1_bn  layer.trainable =  True\n",
      "new layer name =  conv4_block28_1_relu  layer.trainable =  True\n",
      "new layer name =  conv4_block28_2_conv  layer.trainable =  True\n",
      "new layer name =  conv4_block28_concat  layer.trainable =  True\n",
      "new layer name =  conv4_block29_0_bn  layer.trainable =  True\n",
      "new layer name =  conv4_block29_0_relu  layer.trainable =  True\n",
      "new layer name =  conv4_block29_1_conv  layer.trainable =  True\n",
      "new layer name =  conv4_block29_1_bn  layer.trainable =  True\n",
      "new layer name =  conv4_block29_1_relu  layer.trainable =  True\n",
      "new layer name =  conv4_block29_2_conv  layer.trainable =  True\n",
      "new layer name =  conv4_block29_concat  layer.trainable =  True\n",
      "new layer name =  conv4_block30_0_bn  layer.trainable =  True\n",
      "new layer name =  conv4_block30_0_relu  layer.trainable =  True\n",
      "new layer name =  conv4_block30_1_conv  layer.trainable =  True\n",
      "new layer name =  conv4_block30_1_bn  layer.trainable =  True\n",
      "new layer name =  conv4_block30_1_relu  layer.trainable =  True\n",
      "new layer name =  conv4_block30_2_conv  layer.trainable =  True\n",
      "new layer name =  conv4_block30_concat  layer.trainable =  True\n",
      "new layer name =  conv4_block31_0_bn  layer.trainable =  True\n",
      "new layer name =  conv4_block31_0_relu  layer.trainable =  True\n",
      "new layer name =  conv4_block31_1_conv  layer.trainable =  True\n",
      "new layer name =  conv4_block31_1_bn  layer.trainable =  True\n",
      "new layer name =  conv4_block31_1_relu  layer.trainable =  True\n",
      "new layer name =  conv4_block31_2_conv  layer.trainable =  True\n",
      "new layer name =  conv4_block31_concat  layer.trainable =  True\n",
      "new layer name =  conv4_block32_0_bn  layer.trainable =  True\n",
      "new layer name =  conv4_block32_0_relu  layer.trainable =  True\n",
      "new layer name =  conv4_block32_1_conv  layer.trainable =  True\n",
      "new layer name =  conv4_block32_1_bn  layer.trainable =  True\n",
      "new layer name =  conv4_block32_1_relu  layer.trainable =  True\n",
      "new layer name =  conv4_block32_2_conv  layer.trainable =  True\n",
      "new layer name =  conv4_block32_concat  layer.trainable =  True\n",
      "new layer name =  pool4_bn  layer.trainable =  True\n",
      "new layer name =  pool4_relu  layer.trainable =  True\n",
      "new layer name =  pool4_conv  layer.trainable =  True\n",
      "new layer name =  pool4_pool  layer.trainable =  True\n",
      "new layer name =  conv5_block1_0_bn  layer.trainable =  True\n",
      "new layer name =  conv5_block1_0_relu  layer.trainable =  True\n",
      "new layer name =  conv5_block1_1_conv  layer.trainable =  True\n"
     ]
    },
    {
     "name": "stdout",
     "output_type": "stream",
     "text": [
      "new layer name =  conv5_block1_1_bn  layer.trainable =  True\n",
      "new layer name =  conv5_block1_1_relu  layer.trainable =  True\n",
      "new layer name =  conv5_block1_2_conv  layer.trainable =  True\n",
      "new layer name =  conv5_block1_concat  layer.trainable =  True\n",
      "new layer name =  conv5_block2_0_bn  layer.trainable =  True\n",
      "new layer name =  conv5_block2_0_relu  layer.trainable =  True\n",
      "new layer name =  conv5_block2_1_conv  layer.trainable =  True\n",
      "new layer name =  conv5_block2_1_bn  layer.trainable =  True\n",
      "new layer name =  conv5_block2_1_relu  layer.trainable =  True\n",
      "new layer name =  conv5_block2_2_conv  layer.trainable =  True\n",
      "new layer name =  conv5_block2_concat  layer.trainable =  True\n",
      "new layer name =  conv5_block3_0_bn  layer.trainable =  True\n",
      "new layer name =  conv5_block3_0_relu  layer.trainable =  True\n",
      "new layer name =  conv5_block3_1_conv  layer.trainable =  True\n",
      "new layer name =  conv5_block3_1_bn  layer.trainable =  True\n",
      "new layer name =  conv5_block3_1_relu  layer.trainable =  True\n",
      "new layer name =  conv5_block3_2_conv  layer.trainable =  True\n",
      "new layer name =  conv5_block3_concat  layer.trainable =  True\n",
      "new layer name =  conv5_block4_0_bn  layer.trainable =  True\n",
      "new layer name =  conv5_block4_0_relu  layer.trainable =  True\n",
      "new layer name =  conv5_block4_1_conv  layer.trainable =  True\n",
      "new layer name =  conv5_block4_1_bn  layer.trainable =  True\n",
      "new layer name =  conv5_block4_1_relu  layer.trainable =  True\n",
      "new layer name =  conv5_block4_2_conv  layer.trainable =  True\n",
      "new layer name =  conv5_block4_concat  layer.trainable =  True\n",
      "new layer name =  conv5_block5_0_bn  layer.trainable =  True\n",
      "new layer name =  conv5_block5_0_relu  layer.trainable =  True\n",
      "new layer name =  conv5_block5_1_conv  layer.trainable =  True\n",
      "new layer name =  conv5_block5_1_bn  layer.trainable =  True\n",
      "new layer name =  conv5_block5_1_relu  layer.trainable =  True\n",
      "new layer name =  conv5_block5_2_conv  layer.trainable =  True\n",
      "new layer name =  conv5_block5_concat  layer.trainable =  True\n",
      "new layer name =  conv5_block6_0_bn  layer.trainable =  True\n",
      "new layer name =  conv5_block6_0_relu  layer.trainable =  True\n",
      "new layer name =  conv5_block6_1_conv  layer.trainable =  True\n",
      "new layer name =  conv5_block6_1_bn  layer.trainable =  True\n",
      "new layer name =  conv5_block6_1_relu  layer.trainable =  True\n",
      "new layer name =  conv5_block6_2_conv  layer.trainable =  True\n",
      "new layer name =  conv5_block6_concat  layer.trainable =  True\n",
      "new layer name =  conv5_block7_0_bn  layer.trainable =  True\n",
      "new layer name =  conv5_block7_0_relu  layer.trainable =  True\n",
      "new layer name =  conv5_block7_1_conv  layer.trainable =  True\n",
      "new layer name =  conv5_block7_1_bn  layer.trainable =  True\n",
      "new layer name =  conv5_block7_1_relu  layer.trainable =  True\n",
      "new layer name =  conv5_block7_2_conv  layer.trainable =  True\n",
      "new layer name =  conv5_block7_concat  layer.trainable =  True\n",
      "new layer name =  conv5_block8_0_bn  layer.trainable =  True\n",
      "new layer name =  conv5_block8_0_relu  layer.trainable =  True\n",
      "new layer name =  conv5_block8_1_conv  layer.trainable =  True\n",
      "new layer name =  conv5_block8_1_bn  layer.trainable =  True\n",
      "new layer name =  conv5_block8_1_relu  layer.trainable =  True\n",
      "new layer name =  conv5_block8_2_conv  layer.trainable =  True\n",
      "new layer name =  conv5_block8_concat  layer.trainable =  True\n",
      "new layer name =  conv5_block9_0_bn  layer.trainable =  True\n",
      "new layer name =  conv5_block9_0_relu  layer.trainable =  True\n",
      "new layer name =  conv5_block9_1_conv  layer.trainable =  True\n",
      "new layer name =  conv5_block9_1_bn  layer.trainable =  True\n",
      "new layer name =  conv5_block9_1_relu  layer.trainable =  True\n",
      "new layer name =  conv5_block9_2_conv  layer.trainable =  True\n",
      "new layer name =  conv5_block9_concat  layer.trainable =  True\n",
      "new layer name =  conv5_block10_0_bn  layer.trainable =  True\n",
      "new layer name =  conv5_block10_0_relu  layer.trainable =  True\n",
      "new layer name =  conv5_block10_1_conv  layer.trainable =  True\n",
      "new layer name =  conv5_block10_1_bn  layer.trainable =  True\n",
      "new layer name =  conv5_block10_1_relu  layer.trainable =  True\n",
      "new layer name =  conv5_block10_2_conv  layer.trainable =  True\n",
      "new layer name =  conv5_block10_concat  layer.trainable =  True\n",
      "new layer name =  conv5_block11_0_bn  layer.trainable =  True\n",
      "new layer name =  conv5_block11_0_relu  layer.trainable =  True\n",
      "new layer name =  conv5_block11_1_conv  layer.trainable =  True\n",
      "new layer name =  conv5_block11_1_bn  layer.trainable =  True\n",
      "new layer name =  conv5_block11_1_relu  layer.trainable =  True\n",
      "new layer name =  conv5_block11_2_conv  layer.trainable =  True\n",
      "new layer name =  conv5_block11_concat  layer.trainable =  True\n",
      "new layer name =  conv5_block12_0_bn  layer.trainable =  True\n",
      "new layer name =  conv5_block12_0_relu  layer.trainable =  True\n",
      "new layer name =  conv5_block12_1_conv  layer.trainable =  True\n",
      "new layer name =  conv5_block12_1_bn  layer.trainable =  True\n",
      "new layer name =  conv5_block12_1_relu  layer.trainable =  True\n",
      "new layer name =  conv5_block12_2_conv  layer.trainable =  True\n",
      "new layer name =  conv5_block12_concat  layer.trainable =  True\n",
      "new layer name =  conv5_block13_0_bn  layer.trainable =  True\n",
      "new layer name =  conv5_block13_0_relu  layer.trainable =  True\n",
      "new layer name =  conv5_block13_1_conv  layer.trainable =  True\n",
      "new layer name =  conv5_block13_1_bn  layer.trainable =  True\n",
      "new layer name =  conv5_block13_1_relu  layer.trainable =  True\n",
      "new layer name =  conv5_block13_2_conv  layer.trainable =  True\n",
      "new layer name =  conv5_block13_concat  layer.trainable =  True\n",
      "new layer name =  conv5_block14_0_bn  layer.trainable =  True\n",
      "new layer name =  conv5_block14_0_relu  layer.trainable =  True\n",
      "new layer name =  conv5_block14_1_conv  layer.trainable =  True\n",
      "new layer name =  conv5_block14_1_bn  layer.trainable =  True\n",
      "new layer name =  conv5_block14_1_relu  layer.trainable =  True\n",
      "new layer name =  conv5_block14_2_conv  layer.trainable =  True\n",
      "new layer name =  conv5_block14_concat  layer.trainable =  True\n",
      "new layer name =  conv5_block15_0_bn  layer.trainable =  True\n",
      "new layer name =  conv5_block15_0_relu  layer.trainable =  True\n",
      "new layer name =  conv5_block15_1_conv  layer.trainable =  True\n",
      "new layer name =  conv5_block15_1_bn  layer.trainable =  True\n",
      "new layer name =  conv5_block15_1_relu  layer.trainable =  True\n",
      "new layer name =  conv5_block15_2_conv  layer.trainable =  True\n",
      "new layer name =  conv5_block15_concat  layer.trainable =  True\n",
      "new layer name =  conv5_block16_0_bn  layer.trainable =  True\n",
      "new layer name =  conv5_block16_0_relu  layer.trainable =  True\n",
      "new layer name =  conv5_block16_1_conv  layer.trainable =  True\n",
      "new layer name =  conv5_block16_1_bn  layer.trainable =  True\n",
      "new layer name =  conv5_block16_1_relu  layer.trainable =  True\n",
      "new layer name =  conv5_block16_2_conv  layer.trainable =  True\n",
      "new layer name =  conv5_block16_concat  layer.trainable =  True\n",
      "new layer name =  conv5_block17_0_bn  layer.trainable =  True\n",
      "new layer name =  conv5_block17_0_relu  layer.trainable =  True\n",
      "new layer name =  conv5_block17_1_conv  layer.trainable =  True\n",
      "new layer name =  conv5_block17_1_bn  layer.trainable =  True\n",
      "new layer name =  conv5_block17_1_relu  layer.trainable =  True\n",
      "new layer name =  conv5_block17_2_conv  layer.trainable =  True\n",
      "new layer name =  conv5_block17_concat  layer.trainable =  True\n",
      "new layer name =  conv5_block18_0_bn  layer.trainable =  True\n",
      "new layer name =  conv5_block18_0_relu  layer.trainable =  True\n",
      "new layer name =  conv5_block18_1_conv  layer.trainable =  True\n",
      "new layer name =  conv5_block18_1_bn  layer.trainable =  True\n",
      "new layer name =  conv5_block18_1_relu  layer.trainable =  True\n",
      "new layer name =  conv5_block18_2_conv  layer.trainable =  True\n",
      "new layer name =  conv5_block18_concat  layer.trainable =  True\n",
      "new layer name =  conv5_block19_0_bn  layer.trainable =  True\n",
      "new layer name =  conv5_block19_0_relu  layer.trainable =  True\n",
      "new layer name =  conv5_block19_1_conv  layer.trainable =  True\n",
      "new layer name =  conv5_block19_1_bn  layer.trainable =  True\n",
      "new layer name =  conv5_block19_1_relu  layer.trainable =  True\n",
      "new layer name =  conv5_block19_2_conv  layer.trainable =  True\n",
      "new layer name =  conv5_block19_concat  layer.trainable =  True\n",
      "new layer name =  conv5_block20_0_bn  layer.trainable =  True\n",
      "new layer name =  conv5_block20_0_relu  layer.trainable =  True\n",
      "new layer name =  conv5_block20_1_conv  layer.trainable =  True\n",
      "new layer name =  conv5_block20_1_bn  layer.trainable =  True\n",
      "new layer name =  conv5_block20_1_relu  layer.trainable =  True\n",
      "new layer name =  conv5_block20_2_conv  layer.trainable =  True\n",
      "new layer name =  conv5_block20_concat  layer.trainable =  True\n",
      "new layer name =  conv5_block21_0_bn  layer.trainable =  True\n",
      "new layer name =  conv5_block21_0_relu  layer.trainable =  True\n",
      "new layer name =  conv5_block21_1_conv  layer.trainable =  True\n",
      "new layer name =  conv5_block21_1_bn  layer.trainable =  True\n",
      "new layer name =  conv5_block21_1_relu  layer.trainable =  True\n",
      "new layer name =  conv5_block21_2_conv  layer.trainable =  True\n",
      "new layer name =  conv5_block21_concat  layer.trainable =  True\n",
      "new layer name =  conv5_block22_0_bn  layer.trainable =  True\n",
      "new layer name =  conv5_block22_0_relu  layer.trainable =  True\n",
      "new layer name =  conv5_block22_1_conv  layer.trainable =  True\n",
      "new layer name =  conv5_block22_1_bn  layer.trainable =  True\n",
      "new layer name =  conv5_block22_1_relu  layer.trainable =  True\n",
      "new layer name =  conv5_block22_2_conv  layer.trainable =  True\n",
      "new layer name =  conv5_block22_concat  layer.trainable =  True\n",
      "new layer name =  conv5_block23_0_bn  layer.trainable =  True\n",
      "new layer name =  conv5_block23_0_relu  layer.trainable =  True\n",
      "new layer name =  conv5_block23_1_conv  layer.trainable =  True\n",
      "new layer name =  conv5_block23_1_bn  layer.trainable =  True\n",
      "new layer name =  conv5_block23_1_relu  layer.trainable =  True\n",
      "new layer name =  conv5_block23_2_conv  layer.trainable =  True\n",
      "new layer name =  conv5_block23_concat  layer.trainable =  True\n",
      "new layer name =  conv5_block24_0_bn  layer.trainable =  True\n",
      "new layer name =  conv5_block24_0_relu  layer.trainable =  True\n",
      "new layer name =  conv5_block24_1_conv  layer.trainable =  True\n",
      "new layer name =  conv5_block24_1_bn  layer.trainable =  True\n",
      "new layer name =  conv5_block24_1_relu  layer.trainable =  True\n",
      "new layer name =  conv5_block24_2_conv  layer.trainable =  True\n",
      "new layer name =  conv5_block24_concat  layer.trainable =  True\n",
      "new layer name =  conv5_block25_0_bn  layer.trainable =  True\n",
      "new layer name =  conv5_block25_0_relu  layer.trainable =  True\n",
      "new layer name =  conv5_block25_1_conv  layer.trainable =  True\n",
      "new layer name =  conv5_block25_1_bn  layer.trainable =  True\n",
      "new layer name =  conv5_block25_1_relu  layer.trainable =  True\n",
      "new layer name =  conv5_block25_2_conv  layer.trainable =  True\n",
      "new layer name =  conv5_block25_concat  layer.trainable =  True\n",
      "new layer name =  conv5_block26_0_bn  layer.trainable =  True\n",
      "new layer name =  conv5_block26_0_relu  layer.trainable =  True\n",
      "new layer name =  conv5_block26_1_conv  layer.trainable =  True\n",
      "new layer name =  conv5_block26_1_bn  layer.trainable =  True\n",
      "new layer name =  conv5_block26_1_relu  layer.trainable =  True\n",
      "new layer name =  conv5_block26_2_conv  layer.trainable =  True\n",
      "new layer name =  conv5_block26_concat  layer.trainable =  True\n",
      "new layer name =  conv5_block27_0_bn  layer.trainable =  True\n",
      "new layer name =  conv5_block27_0_relu  layer.trainable =  True\n",
      "new layer name =  conv5_block27_1_conv  layer.trainable =  True\n",
      "new layer name =  conv5_block27_1_bn  layer.trainable =  True\n",
      "new layer name =  conv5_block27_1_relu  layer.trainable =  True\n",
      "new layer name =  conv5_block27_2_conv  layer.trainable =  True\n",
      "new layer name =  conv5_block27_concat  layer.trainable =  True\n",
      "new layer name =  conv5_block28_0_bn  layer.trainable =  True\n",
      "new layer name =  conv5_block28_0_relu  layer.trainable =  True\n",
      "new layer name =  conv5_block28_1_conv  layer.trainable =  True\n",
      "new layer name =  conv5_block28_1_bn  layer.trainable =  True\n",
      "new layer name =  conv5_block28_1_relu  layer.trainable =  True\n",
      "new layer name =  conv5_block28_2_conv  layer.trainable =  True\n",
      "new layer name =  conv5_block28_concat  layer.trainable =  True\n",
      "new layer name =  conv5_block29_0_bn  layer.trainable =  True\n",
      "new layer name =  conv5_block29_0_relu  layer.trainable =  True\n",
      "new layer name =  conv5_block29_1_conv  layer.trainable =  True\n",
      "new layer name =  conv5_block29_1_bn  layer.trainable =  True\n",
      "new layer name =  conv5_block29_1_relu  layer.trainable =  True\n",
      "new layer name =  conv5_block29_2_conv  layer.trainable =  True\n",
      "new layer name =  conv5_block29_concat  layer.trainable =  True\n",
      "new layer name =  conv5_block30_0_bn  layer.trainable =  True\n",
      "new layer name =  conv5_block30_0_relu  layer.trainable =  True\n",
      "new layer name =  conv5_block30_1_conv  layer.trainable =  True\n",
      "new layer name =  conv5_block30_1_bn  layer.trainable =  True\n",
      "new layer name =  conv5_block30_1_relu  layer.trainable =  True\n",
      "new layer name =  conv5_block30_2_conv  layer.trainable =  True\n",
      "new layer name =  conv5_block30_concat  layer.trainable =  True\n",
      "new layer name =  conv5_block31_0_bn  layer.trainable =  True\n",
      "new layer name =  conv5_block31_0_relu  layer.trainable =  True\n",
      "new layer name =  conv5_block31_1_conv  layer.trainable =  True\n",
      "new layer name =  conv5_block31_1_bn  layer.trainable =  True\n",
      "new layer name =  conv5_block31_1_relu  layer.trainable =  True\n",
      "new layer name =  conv5_block31_2_conv  layer.trainable =  True\n",
      "new layer name =  conv5_block31_concat  layer.trainable =  True\n",
      "new layer name =  conv5_block32_0_bn  layer.trainable =  True\n",
      "new layer name =  conv5_block32_0_relu  layer.trainable =  True\n",
      "new layer name =  conv5_block32_1_conv  layer.trainable =  True\n",
      "new layer name =  conv5_block32_1_bn  layer.trainable =  True\n",
      "new layer name =  conv5_block32_1_relu  layer.trainable =  True\n",
      "new layer name =  conv5_block32_2_conv  layer.trainable =  True\n",
      "new layer name =  conv5_block32_concat  layer.trainable =  True\n",
      "new layer name =  bn  layer.trainable =  True\n",
      "new layer name =  global_average_pooling2d_1  layer.trainable =  True\n",
      "new layer name =  dropout_1  layer.trainable =  True\n",
      "new layer name =  dense_1  layer.trainable =  True\n"
     ]
    }
   ],
   "source": [
    "from keras.models import *\n",
    "from keras.callbacks import *\n",
    "from keras import backend as K\n",
    "from data import *\n",
    "import cv2\n",
    "import argparse\n",
    "import h5py\n",
    "import matplotlib.pyplot as plt\n",
    "from time import sleep\n",
    "import numpy\n",
    "from sklearn.metrics import roc_curve, auc\n",
    "from scipy import interp\n",
    "from itertools import cycle\n",
    "from termcolor import colored\n",
    "numpy.set_printoptions(threshold=numpy.nan)\n",
    "from modelNIHDenseNet import *\n",
    "from pprint import pprint as pp\n",
    "from keras.preprocessing.image import ImageDataGenerator\n",
    "#from sklearn.utils import class_weight as cw\n",
    "import tensorflow as tf\n",
    "import random\n",
    "import time\n",
    "import json\n",
    "import pickle\n",
    "\n",
    "#FLAG_DATASET_PATH = 'data'\n",
    "FLAG_DATASET_PATH = '/mnt/DataStorage/HumanProtein/'\n",
    "os.environ[\"CUDA_VISIBLE_DEVICES\"]=\"0\"\n",
    "# set tensorflow don't use total GPU memory\n",
    "config = tf.ConfigProto()\n",
    "config.gpu_options.allow_growth=True\n",
    "sess = tf.Session(config=config)\n",
    "\n",
    "CAM_LAYER_NAME= {'vgg16':'block5_conv3', 'resnet50':'activation_49', 'nasnet_mobile':'normal_concat_12', 'densenet':'normal_concat_12'}\n",
    "FLAG_MODEL_CHOSEN = 'densenet'\n",
    "\n",
    "FLAG_TRAIN_BATCH_SIZE = 9\n",
    "FLAG_TRAIN_TOTAL_EPOCH = 200\n",
    "FLAG_CLASS_WEIGHT_SMOOTHING = 0.4\n",
    "FLAS_HP_IMAGE_SIZE = 512\n",
    "\n",
    "FLAG_DATA_MODE_INDEX = 0\n",
    "#FLAG_NORMAL_MODE = 0, FLAG_BINARY_MODE = 1, FLAG_ONLY_DISEASE_MODE = 2\n",
    "#current, only support normal mode\n",
    "FLAG_DATA_MODE = ['FLAG_NORMAL_MODE', 'FLAG_BINARY_MODE']\n",
    "\n",
    "LAST_MODEL_NAME = 'weights.epoch.sub.49-0.66.h5'\n",
    "LAST_MODEL_PATH = os.path.join('model', FLAG_MODEL_CHOSEN, LAST_MODEL_NAME)\n",
    "\n",
    "FLAG_DATASET_IMAGE = os.path.join(FLAG_DATASET_PATH, 'images')\n",
    "Data_MODE = 'FULL'\n",
    "\n",
    "FLAG_TEST_DATASET_IMAGE = os.path.join(FLAG_DATASET_PATH, 'test')\n",
    "\n",
    "sample_csv_path = os.path.join(FLAG_DATASET_PATH, 'sample_submission.csv')\n",
    "submission_csv_path = os.path.join(FLAG_DATASET_PATH, 'submission.csv')\n",
    "\n",
    "TAGS = 28\n",
    "\n",
    "# set tensorflow don't use total GPU memory\n",
    "config = tf.ConfigProto()\n",
    "config.gpu_options.allow_growth=True\n",
    "sess = tf.Session(config=config)\n",
    "\n",
    "float_formatter = lambda x: \"%.5f\" % x\n",
    "np.set_printoptions(formatter={'float_kind':float_formatter})\n",
    "\n",
    "K.set_learning_phase(0)\n",
    "model = get_model(TAGS, FLAS_HP_IMAGE_SIZE)\n",
    "model.load_weights(LAST_MODEL_PATH)\n"
   ]
  },
  {
   "cell_type": "code",
   "execution_count": 2,
   "metadata": {},
   "outputs": [
    {
     "name": "stdout",
     "output_type": "stream",
     "text": [
      "data size =  31072\n"
     ]
    },
    {
     "ename": "ValueError",
     "evalue": "Error when checking input: expected image_input to have shape (512, 512, 4) but got array with shape (224, 224, 4)",
     "output_type": "error",
     "traceback": [
      "\u001b[0;31m---------------------------------------------------------------------------\u001b[0m",
      "\u001b[0;31mValueError\u001b[0m                                Traceback (most recent call last)",
      "\u001b[0;32m<ipython-input-2-23bcf3766e73>\u001b[0m in \u001b[0;36m<module>\u001b[0;34m()\u001b[0m\n\u001b[1;32m     13\u001b[0m     \u001b[0mvalidation_x\u001b[0m\u001b[0;34m,\u001b[0m\u001b[0;34m\u001b[0m\u001b[0m\n\u001b[1;32m     14\u001b[0m     \u001b[0mbatch_size\u001b[0m\u001b[0;34m=\u001b[0m\u001b[0;36m4\u001b[0m\u001b[0;34m,\u001b[0m\u001b[0;34m\u001b[0m\u001b[0m\n\u001b[0;32m---> 15\u001b[0;31m     \u001b[0mverbose\u001b[0m\u001b[0;34m=\u001b[0m\u001b[0;36m1\u001b[0m\u001b[0;34m,\u001b[0m\u001b[0;34m\u001b[0m\u001b[0m\n\u001b[0m\u001b[1;32m     16\u001b[0m     )\n\u001b[1;32m     17\u001b[0m \u001b[0;31m#y = y.astype(np.float32)\u001b[0m\u001b[0;34m\u001b[0m\u001b[0;34m\u001b[0m\u001b[0m\n",
      "\u001b[0;32m~/py3env/lib/python3.5/site-packages/keras/engine/training.py\u001b[0m in \u001b[0;36mpredict\u001b[0;34m(self, x, batch_size, verbose, steps)\u001b[0m\n\u001b[1;32m   1150\u001b[0m                              'argument.')\n\u001b[1;32m   1151\u001b[0m         \u001b[0;31m# Validate user data.\u001b[0m\u001b[0;34m\u001b[0m\u001b[0;34m\u001b[0m\u001b[0m\n\u001b[0;32m-> 1152\u001b[0;31m         \u001b[0mx\u001b[0m\u001b[0;34m,\u001b[0m \u001b[0m_\u001b[0m\u001b[0;34m,\u001b[0m \u001b[0m_\u001b[0m \u001b[0;34m=\u001b[0m \u001b[0mself\u001b[0m\u001b[0;34m.\u001b[0m\u001b[0m_standardize_user_data\u001b[0m\u001b[0;34m(\u001b[0m\u001b[0mx\u001b[0m\u001b[0;34m)\u001b[0m\u001b[0;34m\u001b[0m\u001b[0m\n\u001b[0m\u001b[1;32m   1153\u001b[0m         \u001b[0;32mif\u001b[0m \u001b[0mself\u001b[0m\u001b[0;34m.\u001b[0m\u001b[0mstateful\u001b[0m\u001b[0;34m:\u001b[0m\u001b[0;34m\u001b[0m\u001b[0m\n\u001b[1;32m   1154\u001b[0m             \u001b[0;32mif\u001b[0m \u001b[0mx\u001b[0m\u001b[0;34m[\u001b[0m\u001b[0;36m0\u001b[0m\u001b[0;34m]\u001b[0m\u001b[0;34m.\u001b[0m\u001b[0mshape\u001b[0m\u001b[0;34m[\u001b[0m\u001b[0;36m0\u001b[0m\u001b[0;34m]\u001b[0m \u001b[0;34m>\u001b[0m \u001b[0mbatch_size\u001b[0m \u001b[0;32mand\u001b[0m \u001b[0mx\u001b[0m\u001b[0;34m[\u001b[0m\u001b[0;36m0\u001b[0m\u001b[0;34m]\u001b[0m\u001b[0;34m.\u001b[0m\u001b[0mshape\u001b[0m\u001b[0;34m[\u001b[0m\u001b[0;36m0\u001b[0m\u001b[0;34m]\u001b[0m \u001b[0;34m%\u001b[0m \u001b[0mbatch_size\u001b[0m \u001b[0;34m!=\u001b[0m \u001b[0;36m0\u001b[0m\u001b[0;34m:\u001b[0m\u001b[0;34m\u001b[0m\u001b[0m\n",
      "\u001b[0;32m~/py3env/lib/python3.5/site-packages/keras/engine/training.py\u001b[0m in \u001b[0;36m_standardize_user_data\u001b[0;34m(self, x, y, sample_weight, class_weight, check_array_lengths, batch_size)\u001b[0m\n\u001b[1;32m    752\u001b[0m             \u001b[0mfeed_input_shapes\u001b[0m\u001b[0;34m,\u001b[0m\u001b[0;34m\u001b[0m\u001b[0m\n\u001b[1;32m    753\u001b[0m             \u001b[0mcheck_batch_axis\u001b[0m\u001b[0;34m=\u001b[0m\u001b[0;32mFalse\u001b[0m\u001b[0;34m,\u001b[0m  \u001b[0;31m# Don't enforce the batch size.\u001b[0m\u001b[0;34m\u001b[0m\u001b[0m\n\u001b[0;32m--> 754\u001b[0;31m             exception_prefix='input')\n\u001b[0m\u001b[1;32m    755\u001b[0m \u001b[0;34m\u001b[0m\u001b[0m\n\u001b[1;32m    756\u001b[0m         \u001b[0;32mif\u001b[0m \u001b[0my\u001b[0m \u001b[0;32mis\u001b[0m \u001b[0;32mnot\u001b[0m \u001b[0;32mNone\u001b[0m\u001b[0;34m:\u001b[0m\u001b[0;34m\u001b[0m\u001b[0m\n",
      "\u001b[0;32m~/py3env/lib/python3.5/site-packages/keras/engine/training_utils.py\u001b[0m in \u001b[0;36mstandardize_input_data\u001b[0;34m(data, names, shapes, check_batch_axis, exception_prefix)\u001b[0m\n\u001b[1;32m    134\u001b[0m                             \u001b[0;34m': expected '\u001b[0m \u001b[0;34m+\u001b[0m \u001b[0mnames\u001b[0m\u001b[0;34m[\u001b[0m\u001b[0mi\u001b[0m\u001b[0;34m]\u001b[0m \u001b[0;34m+\u001b[0m \u001b[0;34m' to have shape '\u001b[0m \u001b[0;34m+\u001b[0m\u001b[0;34m\u001b[0m\u001b[0m\n\u001b[1;32m    135\u001b[0m                             \u001b[0mstr\u001b[0m\u001b[0;34m(\u001b[0m\u001b[0mshape\u001b[0m\u001b[0;34m)\u001b[0m \u001b[0;34m+\u001b[0m \u001b[0;34m' but got array with shape '\u001b[0m \u001b[0;34m+\u001b[0m\u001b[0;34m\u001b[0m\u001b[0m\n\u001b[0;32m--> 136\u001b[0;31m                             str(data_shape))\n\u001b[0m\u001b[1;32m    137\u001b[0m     \u001b[0;32mreturn\u001b[0m \u001b[0mdata\u001b[0m\u001b[0;34m\u001b[0m\u001b[0m\n\u001b[1;32m    138\u001b[0m \u001b[0;34m\u001b[0m\u001b[0m\n",
      "\u001b[0;31mValueError\u001b[0m: Error when checking input: expected image_input to have shape (512, 512, 4) but got array with shape (224, 224, 4)"
     ]
    }
   ],
   "source": [
    "data_name = 'data_' + Data_MODE + '_0_' + FLAG_DATA_MODE[FLAG_DATA_MODE_INDEX] + '.h5'\n",
    "model_h5_path = os.path.join(FLAG_DATASET_PATH, data_name)\n",
    "data_model = tables.open_file(model_h5_path, mode='a')\n",
    "print('data size = ', len(data_model.root.data))\n",
    "\n",
    "train_size = int(len(data_model.root.tag)*0.8)\n",
    "\n",
    "validation_x = data_model.root.data[train_size:]\n",
    "validation_y = data_model.root.tag[train_size:]\n",
    "\n",
    "tf_session = K.get_session()\n",
    "validation_y_pred = model.predict(\n",
    "    validation_x, \n",
    "    batch_size=4, \n",
    "    verbose=1,\n",
    "    )\n",
    "#y = y.astype(np.float32)\n",
    "\n",
    "dice_score = f1(validation_y, validation_y_pred)\n",
    "print('f1 = ', dice_score.eval(session=tf_session))"
   ]
  },
  {
   "cell_type": "code",
   "execution_count": null,
   "metadata": {},
   "outputs": [
    {
     "name": "stderr",
     "output_type": "stream",
     "text": [
      "\r",
      "  0%|          | 0/11702 [00:00<?, ?it/s]"
     ]
    },
    {
     "name": "stdout",
     "output_type": "stream",
     "text": [
      "1/1 [==============================] - 0s 48ms/step\n",
      "['2 ', '3 ', '7 ', '8 ', '9 ', '10 ', '15 ', '16 ', '17 ', '20 ', '23 ', '27 ']\n",
      "1/1 [==============================] - 0s 48ms/step\n"
     ]
    },
    {
     "name": "stderr",
     "output_type": "stream",
     "text": [
      "\r",
      "  0%|          | 2/11702 [00:00<16:33, 11.77it/s]"
     ]
    },
    {
     "name": "stdout",
     "output_type": "stream",
     "text": [
      "['1 ', '3 ', '4 ', '5 ', '6 ', '11 ', '14 ', '17 ', '18 ', '25 ']\n",
      "1/1 [==============================] - 0s 48ms/step\n",
      "['0 ', '1 ', '5 ', '14 ', '17 ', '18 ', '19 ', '21 ', '25 ']\n",
      "1/1 [==============================] - 0s 47ms/step\n"
     ]
    },
    {
     "name": "stderr",
     "output_type": "stream",
     "text": [
      "\r",
      "  0%|          | 4/11702 [00:00<16:28, 11.83it/s]"
     ]
    },
    {
     "name": "stdout",
     "output_type": "stream",
     "text": [
      "['0 ', '25 ']\n",
      "1/1 [==============================] - 0s 49ms/step\n",
      "['0 ', '6 ', '7 ', '23 ', '25 ']\n",
      "1/1 [==============================] - 0s 47ms/step\n"
     ]
    },
    {
     "name": "stderr",
     "output_type": "stream",
     "text": [
      "\r",
      "  0%|          | 6/11702 [00:00<16:13, 12.01it/s]"
     ]
    },
    {
     "name": "stdout",
     "output_type": "stream",
     "text": [
      "['1 ', '4 ', '5 ', '6 ', '8 ', '11 ', '12 ', '14 ', '17 ', '21 ', '25 ', '27 ']\n",
      "1/1 [==============================] - 0s 47ms/step\n",
      "['4 ', '6 ', '7 ', '8 ', '9 ', '10 ', '12 ', '13 ', '19 ', '20 ', '21 ', '22 ', '23 ', '25 ', '26 ', '27 ']\n",
      "1/1 [==============================] - 0s 48ms/step\n"
     ]
    },
    {
     "name": "stderr",
     "output_type": "stream",
     "text": [
      "\r",
      "  0%|          | 8/11702 [00:00<16:31, 11.80it/s]"
     ]
    },
    {
     "name": "stdout",
     "output_type": "stream",
     "text": [
      "['0 ', '1 ', '11 ', '23 ', '25 ']\n",
      "1/1 [==============================] - 0s 48ms/step\n",
      "['0 ', '1 ']\n",
      "1/1 [==============================] - 0s 48ms/step\n"
     ]
    },
    {
     "name": "stderr",
     "output_type": "stream",
     "text": [
      "\r",
      "  0%|          | 10/11702 [00:00<16:49, 11.58it/s]"
     ]
    },
    {
     "name": "stdout",
     "output_type": "stream",
     "text": [
      "['0 ', '2 ', '3 ', '4 ', '6 ', '15 ', '17 ', '18 ', '21 ', '23 ', '25 ']\n",
      "1/1 [==============================] - 0s 49ms/step\n",
      "['0 ', '25 ']\n",
      "1/1 [==============================] - 0s 48ms/step\n"
     ]
    },
    {
     "name": "stderr",
     "output_type": "stream",
     "text": [
      "\r",
      "  0%|          | 12/11702 [00:01<16:52, 11.54it/s]"
     ]
    },
    {
     "name": "stdout",
     "output_type": "stream",
     "text": [
      "['3 ', '5 ', '6 ', '8 ', '19 ', '20 ', '23 ', '26 ']\n",
      "1/1 [==============================] - 0s 48ms/step\n",
      "['0 ', '1 ', '2 ', '17 ', '18 ', '19 ', '25 ']\n",
      "1/1 [==============================] - 0s 48ms/step\n"
     ]
    },
    {
     "name": "stderr",
     "output_type": "stream",
     "text": [
      "\r",
      "  0%|          | 14/11702 [00:01<16:51, 11.56it/s]"
     ]
    },
    {
     "name": "stdout",
     "output_type": "stream",
     "text": [
      "['4 ', '6 ', '7 ', '8 ', '9 ', '10 ', '11 ', '18 ', '19 ', '20 ', '23 ', '26 ']\n",
      "1/1 [==============================] - 0s 48ms/step\n",
      "['0 ', '23 ', '25 ']\n",
      "1/1 [==============================] - 0s 47ms/step\n"
     ]
    },
    {
     "name": "stderr",
     "output_type": "stream",
     "text": [
      "\r",
      "  0%|          | 16/11702 [00:01<16:46, 11.61it/s]"
     ]
    },
    {
     "name": "stdout",
     "output_type": "stream",
     "text": [
      "['2 ', '4 ', '6 ', '7 ', '17 ', '18 ', '25 ']\n",
      "1/1 [==============================] - 0s 47ms/step\n",
      "['1 ', '2 ', '3 ', '6 ', '7 ', '8 ', '9 ', '10 ', '11 ', '12 ', '14 ', '15 ', '16 ', '17 ', '18 ', '19 ', '20 ', '22 ', '24 ', '25 ', '27 ']\n",
      "1/1 [==============================] - 0s 47ms/step\n"
     ]
    },
    {
     "name": "stderr",
     "output_type": "stream",
     "text": [
      "\r",
      "  0%|          | 18/11702 [00:01<16:49, 11.57it/s]"
     ]
    },
    {
     "name": "stdout",
     "output_type": "stream",
     "text": [
      "['0 ', '3 ', '4 ', '5 ']\n",
      "1/1 [==============================] - 0s 47ms/step\n",
      "['6 ', '12 ', '14 ', '16 ', '17 ', '18 ', '21 ']\n",
      "1/1 [==============================] - 0s 47ms/step\n"
     ]
    },
    {
     "name": "stderr",
     "output_type": "stream",
     "text": [
      "\r",
      "  0%|          | 20/11702 [00:01<16:55, 11.51it/s]"
     ]
    },
    {
     "name": "stdout",
     "output_type": "stream",
     "text": [
      "['0 ', '3 ', '4 ', '5 ', '26 ']\n",
      "1/1 [==============================] - 0s 46ms/step\n",
      "['1 ', '4 ', '6 ', '14 ', '25 ']\n",
      "1/1 [==============================] - 0s 47ms/step\n"
     ]
    },
    {
     "name": "stderr",
     "output_type": "stream",
     "text": [
      "\r",
      "  0%|          | 22/11702 [00:01<16:50, 11.56it/s]"
     ]
    },
    {
     "name": "stdout",
     "output_type": "stream",
     "text": [
      "['2 ', '3 ', '4 ', '5 ', '6 ', '7 ', '8 ', '9 ', '10 ', '11 ', '14 ', '15 ', '18 ', '19 ', '20 ', '23 ', '24 ', '26 ', '27 ']\n",
      "1/1 [==============================] - 0s 47ms/step\n",
      "['0 ', '6 ', '21 ', '25 ']\n",
      "1/1 [==============================] - 0s 48ms/step\n"
     ]
    },
    {
     "name": "stderr",
     "output_type": "stream",
     "text": [
      "\r",
      "  0%|          | 24/11702 [00:02<16:49, 11.57it/s]"
     ]
    },
    {
     "name": "stdout",
     "output_type": "stream",
     "text": [
      "['0 ', '1 ']\n",
      "1/1 [==============================] - 0s 47ms/step\n",
      "['0 ', '4 ', '7 ']\n",
      "1/1 [==============================] - 0s 48ms/step\n"
     ]
    },
    {
     "name": "stderr",
     "output_type": "stream",
     "text": [
      "\r",
      "  0%|          | 26/11702 [00:02<16:51, 11.55it/s]"
     ]
    },
    {
     "name": "stdout",
     "output_type": "stream",
     "text": [
      "['0 ', '4 ', '6 ', '13 ', '14 ', '16 ', '18 ', '21 ', '25 ']\n",
      "1/1 [==============================] - 0s 48ms/step\n",
      "['0 ', '7 ', '17 ', '18 ', '19 ', '21 ', '25 ']\n",
      "1/1 [==============================] - 0s 48ms/step\n"
     ]
    },
    {
     "name": "stderr",
     "output_type": "stream",
     "text": [
      "\r",
      "  0%|          | 28/11702 [00:02<16:49, 11.56it/s]"
     ]
    },
    {
     "name": "stdout",
     "output_type": "stream",
     "text": [
      "['0 ', '1 ', '5 ']\n",
      "1/1 [==============================] - 0s 47ms/step\n",
      "['0 ', '5 ', '13 ', '16 ', '17 ', '18 ', '19 ', '21 ', '25 ']\n",
      "1/1 [==============================] - 0s 47ms/step\n"
     ]
    },
    {
     "name": "stderr",
     "output_type": "stream",
     "text": [
      "\r",
      "  0%|          | 30/11702 [00:02<16:47, 11.58it/s]"
     ]
    },
    {
     "name": "stdout",
     "output_type": "stream",
     "text": [
      "['0 ', '4 ', '5 ', '19 ']\n",
      "1/1 [==============================] - 0s 48ms/step\n",
      "['0 ', '13 ', '21 ', '23 ', '25 ']\n",
      "1/1 [==============================] - 0s 47ms/step\n"
     ]
    },
    {
     "name": "stderr",
     "output_type": "stream",
     "text": [
      "\r",
      "  0%|          | 32/11702 [00:02<16:45, 11.61it/s]"
     ]
    },
    {
     "name": "stdout",
     "output_type": "stream",
     "text": [
      "['0 ', '5 ', '7 ', '17 ', '18 ', '19 ', '25 ']\n",
      "1/1 [==============================] - 0s 47ms/step\n",
      "['1 ', '2 ', '3 ', '6 ', '7 ', '8 ', '9 ', '10 ', '14 ', '15 ', '16 ', '17 ', '18 ', '19 ', '20 ', '21 ', '23 ', '24 ', '25 ', '27 ']\n",
      "1/1 [==============================] - 0s 47ms/step\n"
     ]
    },
    {
     "name": "stderr",
     "output_type": "stream",
     "text": [
      "\r",
      "  0%|          | 34/11702 [00:02<16:47, 11.59it/s]"
     ]
    },
    {
     "name": "stdout",
     "output_type": "stream",
     "text": [
      "['0 ', '5 ', '11 ', '14 ', '16 ', '17 ', '18 ', '19 ', '21 ', '22 ', '24 ', '25 ', '27 ']\n",
      "1/1 [==============================] - 0s 47ms/step\n",
      "['0 ', '1 ', '6 ', '7 ', '8 ', '9 ', '10 ', '11 ', '15 ', '16 ', '17 ', '18 ', '20 ', '23 ', '24 ', '25 ', '27 ']\n",
      "1/1 [==============================] - 0s 47ms/step\n"
     ]
    },
    {
     "name": "stderr",
     "output_type": "stream",
     "text": [
      "\r",
      "  0%|          | 36/11702 [00:03<16:46, 11.59it/s]"
     ]
    },
    {
     "name": "stdout",
     "output_type": "stream",
     "text": [
      "['1 ', '4 ', '7 ', '8 ', '9 ', '10 ', '13 ', '20 ', '21 ', '22 ', '23 ', '26 ']\n",
      "1/1 [==============================] - 0s 47ms/step\n",
      "['0 ', '18 ', '19 ']\n",
      "1/1 [==============================] - 0s 46ms/step\n"
     ]
    },
    {
     "name": "stderr",
     "output_type": "stream",
     "text": [
      "\r",
      "  0%|          | 38/11702 [00:03<16:43, 11.62it/s]"
     ]
    },
    {
     "name": "stdout",
     "output_type": "stream",
     "text": [
      "['0 ', '1 ', '2 ', '3 ', '4 ', '5 ', '6 ', '8 ', '9 ', '10 ', '11 ', '13 ', '15 ', '18 ', '20 ', '23 ', '24 ', '27 ']\n",
      "1/1 [==============================] - 0s 47ms/step\n",
      "['0 ', '1 ', '2 ', '3 ', '5 ', '6 ', '7 ', '8 ', '9 ', '10 ', '11 ', '12 ', '14 ', '15 ', '16 ', '17 ', '18 ', '21 ', '24 ', '25 ', '27 ']\n",
      "1/1 [==============================] - 0s 47ms/step\n"
     ]
    },
    {
     "name": "stderr",
     "output_type": "stream",
     "text": [
      "\r",
      "  0%|          | 40/11702 [00:03<16:45, 11.60it/s]"
     ]
    },
    {
     "name": "stdout",
     "output_type": "stream",
     "text": [
      "['1 ', '4 ']\n",
      "1/1 [==============================] - 0s 45ms/step\n",
      "['0 ', '7 ', '17 ', '18 ', '19 ', '25 ']\n",
      "1/1 [==============================] - 0s 45ms/step\n"
     ]
    },
    {
     "name": "stderr",
     "output_type": "stream",
     "text": [
      "\r",
      "  0%|          | 42/11702 [00:03<16:39, 11.66it/s]"
     ]
    },
    {
     "name": "stdout",
     "output_type": "stream",
     "text": [
      "['0 ', '6 ', '7 ', '23 ', '25 ']\n",
      "1/1 [==============================] - 0s 45ms/step\n",
      "['0 ', '5 ', '7 ', '17 ', '18 ', '19 ', '21 ', '23 ', '25 ']\n",
      "1/1 [==============================] - 0s 44ms/step\n"
     ]
    },
    {
     "name": "stderr",
     "output_type": "stream",
     "text": [
      "\r",
      "  0%|          | 44/11702 [00:03<16:34, 11.73it/s]"
     ]
    },
    {
     "name": "stdout",
     "output_type": "stream",
     "text": [
      "['6 ', '7 ', '18 ', '19 ', '23 ', '25 ', '26 ']\n",
      "1/1 [==============================] - 0s 44ms/step\n",
      "['3 ', '7 ', '9 ', '11 ', '13 ', '15 ', '16 ', '17 ', '18 ', '19 ', '20 ', '26 ']\n",
      "1/1 [==============================] - 0s 46ms/step\n"
     ]
    },
    {
     "name": "stderr",
     "output_type": "stream",
     "text": [
      "\r",
      "  0%|          | 46/11702 [00:03<16:30, 11.77it/s]"
     ]
    },
    {
     "name": "stdout",
     "output_type": "stream",
     "text": [
      "['6 ', '7 ', '18 ', '20 ', '23 ']\n",
      "1/1 [==============================] - 0s 47ms/step\n",
      "['0 ', '1 ', '5 ', '16 ']\n",
      "1/1 [==============================] - 0s 45ms/step\n"
     ]
    },
    {
     "name": "stderr",
     "output_type": "stream",
     "text": [
      "\r",
      "  0%|          | 48/11702 [00:04<16:29, 11.78it/s]"
     ]
    },
    {
     "name": "stdout",
     "output_type": "stream",
     "text": [
      "['0 ', '25 ']\n",
      "1/1 [==============================] - 0s 46ms/step\n",
      "['6 ', '14 ', '17 ', '23 ', '25 ']\n",
      "1/1 [==============================] - 0s 46ms/step\n"
     ]
    },
    {
     "name": "stderr",
     "output_type": "stream",
     "text": [
      "\r",
      "  0%|          | 50/11702 [00:04<16:28, 11.79it/s]"
     ]
    },
    {
     "name": "stdout",
     "output_type": "stream",
     "text": [
      "['0 ', '4 ', '5 ']\n",
      "1/1 [==============================] - 0s 43ms/step\n",
      "['0 ', '6 ', '7 ', '17 ', '18 ', '19 ', '25 ']\n",
      "1/1 [==============================] - 0s 43ms/step\n"
     ]
    },
    {
     "name": "stderr",
     "output_type": "stream",
     "text": [
      "\r",
      "  0%|          | 52/11702 [00:04<16:25, 11.83it/s]"
     ]
    },
    {
     "name": "stdout",
     "output_type": "stream",
     "text": [
      "['0 ', '1 ', '3 ', '4 ', '5 ', '8 ', '11 ', '15 ', '17 ', '18 ', '19 ', '20 ', '24 ', '27 ']\n",
      "1/1 [==============================] - 0s 43ms/step\n",
      "['3 ', '7 ', '11 ', '19 ', '20 ', '23 ', '24 ', '26 ']\n",
      "1/1 [==============================] - 0s 43ms/step\n"
     ]
    },
    {
     "name": "stderr",
     "output_type": "stream",
     "text": [
      "\r",
      "  0%|          | 54/11702 [00:04<16:19, 11.89it/s]"
     ]
    },
    {
     "name": "stdout",
     "output_type": "stream",
     "text": [
      "['0 ', '7 ', '17 ', '18 ', '19 ', '25 ']\n",
      "1/1 [==============================] - 0s 45ms/step\n",
      "['1 ', '2 ', '3 ', '4 ', '5 ', '6 ', '8 ', '9 ', '10 ', '13 ', '15 ', '17 ', '18 ', '20 ', '23 ', '24 ', '26 ', '27 ']\n",
      "1/1 [==============================] - 0s 46ms/step\n"
     ]
    },
    {
     "name": "stderr",
     "output_type": "stream",
     "text": [
      "\r",
      "  0%|          | 56/11702 [00:04<16:20, 11.88it/s]"
     ]
    },
    {
     "name": "stdout",
     "output_type": "stream",
     "text": [
      "['0 ', '1 ', '11 ', '21 ', '25 ']\n",
      "1/1 [==============================] - 0s 44ms/step\n",
      "['0 ', '7 ', '17 ', '18 ', '25 ']\n",
      "1/1 [==============================] - 0s 43ms/step\n"
     ]
    },
    {
     "name": "stderr",
     "output_type": "stream",
     "text": [
      "\r",
      "  0%|          | 58/11702 [00:04<16:18, 11.90it/s]"
     ]
    },
    {
     "name": "stdout",
     "output_type": "stream",
     "text": [
      "['6 ', '8 ', '9 ', '10 ', '11 ', '12 ', '13 ', '14 ', '16 ', '17 ', '18 ', '20 ', '23 ', '25 ', '26 ']\n",
      "1/1 [==============================] - 0s 44ms/step\n",
      "['0 ', '1 ', '6 ', '11 ', '16 ', '17 ', '18 ', '19 ', '25 ']\n",
      "1/1 [==============================] - 0s 43ms/step\n"
     ]
    },
    {
     "name": "stderr",
     "output_type": "stream",
     "text": [
      "\r",
      "  1%|          | 60/11702 [00:05<16:18, 11.90it/s]"
     ]
    },
    {
     "name": "stdout",
     "output_type": "stream",
     "text": [
      "['0 ', '2 ', '3 ', '5 ', '6 ', '11 ', '14 ', '18 ', '19 ', '21 ', '25 ']\n",
      "1/1 [==============================] - 0s 42ms/step\n",
      "['1 ', '2 ', '6 ', '7 ', '8 ', '9 ', '10 ', '15 ', '16 ', '17 ', '20 ', '23 ', '27 ']\n",
      "1/1 [==============================] - 0s 42ms/step\n"
     ]
    },
    {
     "name": "stderr",
     "output_type": "stream",
     "text": [
      "\r",
      "  1%|          | 62/11702 [00:05<16:15, 11.94it/s]"
     ]
    },
    {
     "name": "stdout",
     "output_type": "stream",
     "text": [
      "['0 ', '5 ', '14 ', '16 ', '17 ', '18 ', '19 ', '21 ', '24 ', '25 ']\n",
      "1/1 [==============================] - 0s 44ms/step\n",
      "['6 ', '17 ', '18 ', '21 ', '25 ']\n",
      "1/1 [==============================] - 0s 41ms/step\n"
     ]
    },
    {
     "name": "stderr",
     "output_type": "stream",
     "text": [
      "\r",
      "  1%|          | 64/11702 [00:05<16:11, 11.98it/s]"
     ]
    },
    {
     "name": "stdout",
     "output_type": "stream",
     "text": [
      "['0 ', '1 ', '7 ', '11 ', '13 ', '21 ', '23 ', '25 ']\n",
      "1/1 [==============================] - 0s 41ms/step\n",
      "['7 ', '8 ', '20 ', '23 ']\n",
      "1/1 [==============================] - 0s 43ms/step\n"
     ]
    },
    {
     "name": "stderr",
     "output_type": "stream",
     "text": [
      "\r",
      "  1%|          | 66/11702 [00:05<16:09, 12.00it/s]"
     ]
    },
    {
     "name": "stdout",
     "output_type": "stream",
     "text": [
      "['0 ', '5 ', '7 ', '13 ', '16 ', '18 ', '19 ', '20 ', '25 ', '26 ']\n",
      "1/1 [==============================] - 0s 43ms/step\n",
      "['1 ', '2 ', '3 ', '4 ', '6 ', '7 ', '8 ', '9 ', '10 ', '11 ', '12 ', '13 ', '14 ', '15 ', '16 ', '17 ', '18 ', '19 ', '20 ', '21 ', '22 ', '24 ', '25 ', '26 ', '27 ']\n",
      "1/1 [==============================] - 0s 42ms/step\n"
     ]
    },
    {
     "name": "stderr",
     "output_type": "stream",
     "text": [
      "\r",
      "  1%|          | 68/11702 [00:05<16:10, 11.98it/s]"
     ]
    },
    {
     "name": "stdout",
     "output_type": "stream",
     "text": [
      "['0 ', '5 ', '7 ', '17 ', '18 ', '19 ', '21 ', '22 ', '24 ', '25 ']\n",
      "1/1 [==============================] - 0s 41ms/step\n",
      "['0 ', '1 ', '5 ', '7 ', '11 ', '16 ', '25 ']\n",
      "1/1 [==============================] - 0s 42ms/step\n"
     ]
    },
    {
     "name": "stderr",
     "output_type": "stream",
     "text": [
      "\r",
      "  1%|          | 70/11702 [00:05<16:07, 12.02it/s]"
     ]
    },
    {
     "name": "stdout",
     "output_type": "stream",
     "text": [
      "['1 ', '4 ', '6 ', '7 ', '8 ', '9 ', '10 ', '11 ', '12 ', '13 ', '14 ', '15 ', '17 ', '21 ', '24 ', '25 ', '27 ']\n",
      "1/1 [==============================] - 0s 43ms/step\n",
      "['2 ', '3 ', '6 ', '7 ', '8 ', '9 ', '10 ', '15 ', '18 ', '20 ', '23 ', '27 ']\n",
      "1/1 [==============================] - 0s 43ms/step\n"
     ]
    },
    {
     "name": "stderr",
     "output_type": "stream",
     "text": [
      "\r",
      "  1%|          | 72/11702 [00:05<16:03, 12.06it/s]"
     ]
    },
    {
     "name": "stdout",
     "output_type": "stream",
     "text": [
      "['0 ', '1 ']\n",
      "1/1 [==============================] - 0s 42ms/step\n",
      "['6 ', '11 ', '14 ', '17 ', '21 ', '25 ']\n",
      "1/1 [==============================] - 0s 41ms/step\n"
     ]
    },
    {
     "name": "stderr",
     "output_type": "stream",
     "text": [
      "\r",
      "  1%|          | 74/11702 [00:06<16:00, 12.11it/s]"
     ]
    },
    {
     "name": "stdout",
     "output_type": "stream",
     "text": [
      "['4 ', '7 ', '8 ', '9 ', '10 ', '20 ', '23 ', '26 ', '27 ']\n",
      "1/1 [==============================] - 0s 43ms/step\n",
      "['0 ', '1 ', '7 ', '9 ', '10 ', '12 ', '13 ', '20 ', '21 ', '22 ', '23 ', '25 ', '26 ']\n",
      "1/1 [==============================] - 0s 42ms/step\n"
     ]
    },
    {
     "name": "stderr",
     "output_type": "stream",
     "text": [
      "\r",
      "  1%|          | 76/11702 [00:06<15:56, 12.16it/s]"
     ]
    },
    {
     "name": "stdout",
     "output_type": "stream",
     "text": [
      "['0 ', '5 ']\n",
      "1/1 [==============================] - 0s 41ms/step\n",
      "['0 ', '4 ', '5 ']\n",
      "1/1 [==============================] - 0s 41ms/step\n"
     ]
    },
    {
     "name": "stderr",
     "output_type": "stream",
     "text": [
      "\r",
      "  1%|          | 78/11702 [00:06<15:52, 12.21it/s]"
     ]
    },
    {
     "name": "stdout",
     "output_type": "stream",
     "text": [
      "['0 ', '1 ', '2 ', '17 ', '21 ']\n",
      "1/1 [==============================] - 0s 42ms/step\n",
      "['0 ', '7 ', '16 ', '17 ', '18 ', '23 ', '25 ']\n",
      "1/1 [==============================] - 0s 44ms/step\n"
     ]
    },
    {
     "name": "stderr",
     "output_type": "stream",
     "text": [
      "\r",
      "  1%|          | 80/11702 [00:06<15:51, 12.21it/s]"
     ]
    },
    {
     "name": "stdout",
     "output_type": "stream",
     "text": [
      "['0 ', '1 ', '11 ', '25 ']\n",
      "1/1 [==============================] - 0s 43ms/step\n",
      "['0 ', '11 ', '25 ']\n",
      "1/1 [==============================] - 0s 44ms/step\n"
     ]
    },
    {
     "name": "stderr",
     "output_type": "stream",
     "text": [
      "\r",
      "  1%|          | 82/11702 [00:06<15:49, 12.24it/s]"
     ]
    },
    {
     "name": "stdout",
     "output_type": "stream",
     "text": [
      "['0 ', '23 ']\n",
      "1/1 [==============================] - 0s 43ms/step\n",
      "['0 ', '1 ', '5 ', '21 ', '25 ']\n",
      "1/1 [==============================] - 0s 42ms/step\n"
     ]
    },
    {
     "name": "stderr",
     "output_type": "stream",
     "text": [
      "\r",
      "  1%|          | 84/11702 [00:06<15:46, 12.27it/s]"
     ]
    },
    {
     "name": "stdout",
     "output_type": "stream",
     "text": [
      "['6 ', '17 ', '21 ', '23 ', '25 ']\n",
      "1/1 [==============================] - 0s 41ms/step\n",
      "['3 ', '5 ', '6 ', '7 ', '8 ', '9 ', '10 ', '13 ', '15 ', '17 ', '18 ', '19 ', '20 ', '24 ', '26 ', '27 ']\n",
      "1/1 [==============================] - 0s 41ms/step\n"
     ]
    },
    {
     "name": "stderr",
     "output_type": "stream",
     "text": [
      "\r",
      "  1%|          | 86/11702 [00:06<15:44, 12.30it/s]"
     ]
    },
    {
     "name": "stdout",
     "output_type": "stream",
     "text": [
      "['0 ', '5 ', '7 ', '11 ', '18 ', '19 ', '20 ', '23 ', '24 ', '25 ', '26 ', '27 ']\n",
      "1/1 [==============================] - 0s 43ms/step\n",
      "['0 ', '1 ', '7 ', '8 ', '9 ', '10 ', '13 ', '15 ', '20 ', '22 ', '23 ', '27 ']\n",
      "1/1 [==============================] - 0s 44ms/step\n"
     ]
    },
    {
     "name": "stderr",
     "output_type": "stream",
     "text": [
      "\r",
      "  1%|          | 88/11702 [00:07<15:46, 12.27it/s]"
     ]
    },
    {
     "name": "stdout",
     "output_type": "stream",
     "text": [
      "['0 ', '5 ', '7 ', '15 ', '17 ', '18 ', '19 ', '23 ', '24 ']\n",
      "1/1 [==============================] - 0s 41ms/step\n",
      "['6 ', '7 ', '9 ', '10 ', '13 ', '18 ', '19 ', '20 ', '21 ', '25 ', '26 ']\n",
      "1/1 [==============================] - 0s 42ms/step\n"
     ]
    },
    {
     "name": "stderr",
     "output_type": "stream",
     "text": [
      "\r",
      "  1%|          | 90/11702 [00:07<15:45, 12.29it/s]"
     ]
    },
    {
     "name": "stdout",
     "output_type": "stream",
     "text": [
      "['1 ', '4 ', '6 ', '7 ', '8 ', '9 ', '10 ', '11 ', '12 ', '13 ', '14 ', '15 ', '16 ', '17 ', '20 ', '21 ', '22 ', '23 ', '27 ']\n",
      "1/1 [==============================] - 0s 45ms/step\n",
      "['0 ', '25 ']\n",
      "1/1 [==============================] - 0s 44ms/step\n"
     ]
    },
    {
     "name": "stderr",
     "output_type": "stream",
     "text": [
      "\r",
      "  1%|          | 92/11702 [00:07<15:44, 12.30it/s]"
     ]
    },
    {
     "name": "stdout",
     "output_type": "stream",
     "text": [
      "['6 ', '8 ', '11 ', '12 ', '14 ', '16 ', '17 ', '21 ', '23 ']\n",
      "1/1 [==============================] - 0s 43ms/step\n",
      "['6 ', '8 ', '9 ', '10 ', '20 ', '23 ']\n",
      "1/1 [==============================] - 0s 44ms/step\n"
     ]
    },
    {
     "name": "stderr",
     "output_type": "stream",
     "text": [
      "\r",
      "  1%|          | 94/11702 [00:07<15:44, 12.30it/s]"
     ]
    },
    {
     "name": "stdout",
     "output_type": "stream",
     "text": [
      "['7 ', '8 ', '9 ', '10 ', '13 ', '20 ', '22 ', '23 ', '26 ']\n",
      "1/1 [==============================] - 0s 43ms/step\n",
      "['0 ', '7 ', '17 ', '18 ', '23 ', '25 ']\n",
      "1/1 [==============================] - 0s 43ms/step\n"
     ]
    },
    {
     "name": "stderr",
     "output_type": "stream",
     "text": [
      "\r",
      "  1%|          | 96/11702 [00:07<15:42, 12.31it/s]"
     ]
    },
    {
     "name": "stdout",
     "output_type": "stream",
     "text": [
      "['0 ', '25 ']\n",
      "1/1 [==============================] - 0s 45ms/step\n",
      "['6 ', '7 ', '8 ', '9 ', '10 ', '17 ', '18 ', '19 ', '20 ', '21 ', '23 ', '25 ']\n",
      "1/1 [==============================] - 0s 44ms/step\n"
     ]
    },
    {
     "name": "stderr",
     "output_type": "stream",
     "text": [
      "\r",
      "  1%|          | 98/11702 [00:07<15:45, 12.28it/s]"
     ]
    },
    {
     "name": "stdout",
     "output_type": "stream",
     "text": [
      "['0 ', '5 ', '7 ', '9 ', '10 ', '15 ', '16 ', '17 ', '18 ', '19 ', '20 ', '22 ', '24 ', '25 ', '26 ', '27 ']\n",
      "1/1 [==============================] - 0s 44ms/step\n",
      "['2 ', '3 ', '6 ', '7 ', '8 ', '9 ', '10 ', '11 ', '15 ', '17 ', '18 ', '19 ', '20 ', '22 ', '23 ', '24 ', '26 ', '27 ']\n",
      "1/1 [==============================] - 0s 42ms/step\n"
     ]
    },
    {
     "name": "stderr",
     "output_type": "stream",
     "text": [
      "\r",
      "  1%|          | 100/11702 [00:08<15:45, 12.27it/s]"
     ]
    },
    {
     "name": "stdout",
     "output_type": "stream",
     "text": [
      "['0 ', '5 ', '6 ', '7 ', '17 ', '18 ', '19 ', '23 ', '25 ']\n",
      "1/1 [==============================] - 0s 41ms/step\n",
      "['0 ', '6 ', '17 ', '23 ', '25 ']\n",
      "1/1 [==============================] - 0s 42ms/step\n"
     ]
    },
    {
     "name": "stderr",
     "output_type": "stream",
     "text": [
      "\r",
      "  1%|          | 102/11702 [00:08<15:43, 12.30it/s]"
     ]
    },
    {
     "name": "stdout",
     "output_type": "stream",
     "text": [
      "['1 ', '2 ', '3 ', '4 ', '6 ', '7 ', '8 ', '9 ', '10 ', '15 ', '17 ', '20 ', '23 ']\n",
      "1/1 [==============================] - 0s 42ms/step\n",
      "['0 ', '2 ', '23 ', '25 ']\n",
      "1/1 [==============================] - 0s 41ms/step\n"
     ]
    },
    {
     "name": "stderr",
     "output_type": "stream",
     "text": [
      "\r",
      "  1%|          | 104/11702 [00:08<15:40, 12.33it/s]"
     ]
    },
    {
     "name": "stdout",
     "output_type": "stream",
     "text": [
      "['0 ', '2 ', '3 ', '4 ', '7 ', '8 ', '9 ', '10 ', '15 ', '20 ', '23 ', '27 ']\n",
      "1/1 [==============================] - 0s 43ms/step\n",
      "['6 ', '7 ', '8 ', '9 ', '10 ', '11 ', '17 ', '18 ', '20 ', '23 ', '24 ']\n",
      "1/1 [==============================] - 0s 42ms/step\n"
     ]
    },
    {
     "name": "stderr",
     "output_type": "stream",
     "text": [
      "\r",
      "  1%|          | 106/11702 [00:08<15:39, 12.35it/s]"
     ]
    },
    {
     "name": "stdout",
     "output_type": "stream",
     "text": [
      "['0 ', '1 ', '2 ', '3 ', '13 ', '15 ', '16 ', '17 ', '18 ', '19 ', '21 ', '25 ', '26 ']\n",
      "1/1 [==============================] - 0s 43ms/step\n",
      "['0 ', '5 ', '7 ', '11 ', '12 ', '14 ', '16 ', '17 ', '21 ', '22 ', '24 ', '25 ', '27 ']\n",
      "1/1 [==============================] - 0s 44ms/step\n"
     ]
    },
    {
     "name": "stderr",
     "output_type": "stream",
     "text": [
      "\r",
      "  1%|          | 108/11702 [00:08<15:39, 12.34it/s]"
     ]
    },
    {
     "name": "stdout",
     "output_type": "stream",
     "text": [
      "['0 ', '7 ', '9 ', '11 ', '16 ', '18 ', '19 ', '20 ', '22 ', '24 ', '25 ', '26 ', '27 ']\n",
      "1/1 [==============================] - 0s 41ms/step\n",
      "['0 ', '7 ', '8 ', '9 ', '10 ', '15 ', '19 ', '20 ', '22 ', '23 ', '24 ', '26 ', '27 ']\n",
      "1/1 [==============================] - 0s 44ms/step\n"
     ]
    },
    {
     "name": "stderr",
     "output_type": "stream",
     "text": [
      "\r",
      "  1%|          | 110/11702 [00:08<15:38, 12.36it/s]"
     ]
    },
    {
     "name": "stdout",
     "output_type": "stream",
     "text": [
      "['0 ', '1 ', '4 ', '5 ', '6 ', '7 ', '8 ', '9 ', '10 ', '15 ', '17 ', '18 ', '19 ', '20 ', '23 ', '27 ']\n",
      "1/1 [==============================] - 0s 43ms/step\n",
      "['0 ', '2 ', '25 ']\n",
      "1/1 [==============================] - 0s 43ms/step\n"
     ]
    },
    {
     "name": "stderr",
     "output_type": "stream",
     "text": [
      "\r",
      "  1%|          | 112/11702 [00:09<15:35, 12.38it/s]"
     ]
    },
    {
     "name": "stdout",
     "output_type": "stream",
     "text": [
      "['1 ', '4 ', '11 ', '12 ', '14 ', '25 ']\n",
      "1/1 [==============================] - 0s 41ms/step\n",
      "['6 ', '7 ', '11 ', '14 ', '16 ', '17 ', '18 ', '21 ', '23 ', '25 ']\n",
      "1/1 [==============================] - 0s 43ms/step\n"
     ]
    },
    {
     "name": "stderr",
     "output_type": "stream",
     "text": [
      "\r",
      "  1%|          | 114/11702 [00:09<15:35, 12.39it/s]"
     ]
    },
    {
     "name": "stdout",
     "output_type": "stream",
     "text": [
      "['0 ', '1 ', '5 ', '7 ', '12 ', '13 ', '14 ', '15 ', '16 ', '17 ', '18 ', '19 ', '21 ', '22 ', '24 ', '25 ', '26 ', '27 ']\n",
      "1/1 [==============================] - 0s 43ms/step\n",
      "['3 ', '5 ', '6 ', '7 ', '8 ', '9 ', '10 ', '13 ', '18 ', '19 ', '20 ', '22 ', '24 ', '25 ', '26 ', '27 ']\n",
      "1/1 [==============================] - 0s 43ms/step\n"
     ]
    },
    {
     "name": "stderr",
     "output_type": "stream",
     "text": [
      "\r",
      "  1%|          | 116/11702 [00:09<15:34, 12.40it/s]"
     ]
    },
    {
     "name": "stdout",
     "output_type": "stream",
     "text": [
      "['4 ', '5 ', '6 ', '7 ', '8 ', '9 ', '10 ', '14 ', '15 ', '17 ', '18 ', '20 ', '21 ', '23 ', '24 ', '25 ', '27 ']\n",
      "1/1 [==============================] - 0s 44ms/step\n",
      "['0 ', '1 ', '2 ', '3 ', '5 ', '7 ', '15 ', '17 ', '18 ', '19 ', '25 ']\n",
      "1/1 [==============================] - 0s 43ms/step\n"
     ]
    },
    {
     "name": "stderr",
     "output_type": "stream",
     "text": [
      "\r",
      "  1%|          | 118/11702 [00:09<15:33, 12.40it/s]"
     ]
    },
    {
     "name": "stdout",
     "output_type": "stream",
     "text": [
      "['4 ', '19 ', '25 ', '26 ']\n",
      "1/1 [==============================] - 0s 42ms/step\n",
      "['5 ', '6 ', '7 ', '8 ', '10 ', '11 ', '14 ', '17 ', '18 ', '23 ', '25 ']\n",
      "1/1 [==============================] - 0s 45ms/step\n"
     ]
    },
    {
     "name": "stderr",
     "output_type": "stream",
     "text": [
      "\r",
      "  1%|          | 120/11702 [00:09<15:34, 12.40it/s]"
     ]
    },
    {
     "name": "stdout",
     "output_type": "stream",
     "text": [
      "['7 ', '18 ', '19 ', '20 ', '23 ', '24 ', '26 ']\n",
      "1/1 [==============================] - 0s 42ms/step\n",
      "['0 ', '1 ', '3 ', '5 ', '6 ', '7 ', '8 ', '9 ', '10 ', '13 ', '14 ', '15 ', '16 ', '17 ', '18 ', '19 ', '20 ', '24 ', '25 ', '26 ', '27 ']\n",
      "1/1 [==============================] - 0s 42ms/step\n"
     ]
    },
    {
     "name": "stderr",
     "output_type": "stream",
     "text": [
      "\r",
      "  1%|          | 122/11702 [00:09<15:33, 12.41it/s]"
     ]
    },
    {
     "name": "stdout",
     "output_type": "stream",
     "text": [
      "['0 ', '1 ', '7 ', '17 ', '18 ', '21 ', '25 ', '26 ']\n",
      "1/1 [==============================] - 0s 42ms/step\n",
      "['2 ', '4 ', '6 ', '11 ', '12 ', '14 ', '15 ', '16 ', '17 ', '18 ', '21 ', '25 ']\n",
      "1/1 [==============================] - 0s 43ms/step\n"
     ]
    },
    {
     "name": "stderr",
     "output_type": "stream",
     "text": [
      "\r",
      "  1%|          | 124/11702 [00:09<15:31, 12.42it/s]"
     ]
    },
    {
     "name": "stdout",
     "output_type": "stream",
     "text": [
      "['0 ', '1 ', '3 ', '4 ', '5 ', '7 ', '8 ', '9 ', '10 ', '13 ', '15 ', '18 ', '20 ', '23 ', '25 ', '26 ', '27 ']\n",
      "1/1 [==============================] - 0s 43ms/step\n",
      "['0 ', '3 ', '4 ', '7 ', '9 ', '10 ', '11 ', '15 ', '22 ', '23 ', '24 ', '26 ', '27 ']\n",
      "1/1 [==============================] - 0s 43ms/step\n"
     ]
    },
    {
     "name": "stderr",
     "output_type": "stream",
     "text": [
      "\r",
      "  1%|          | 126/11702 [00:10<15:33, 12.41it/s]"
     ]
    },
    {
     "name": "stdout",
     "output_type": "stream",
     "text": [
      "['0 ', '4 ', '5 ', '11 ']\n",
      "1/1 [==============================] - 0s 45ms/step\n",
      "['0 ', '17 ', '18 ', '21 ', '23 ', '25 ']\n",
      "1/1 [==============================] - 0s 44ms/step\n"
     ]
    },
    {
     "name": "stderr",
     "output_type": "stream",
     "text": [
      "\r",
      "  1%|          | 128/11702 [00:10<15:34, 12.39it/s]"
     ]
    },
    {
     "name": "stdout",
     "output_type": "stream",
     "text": [
      "['0 ', '6 ', '17 ', '18 ', '19 ', '25 ']\n",
      "1/1 [==============================] - 0s 43ms/step\n",
      "['0 ', '1 ', '2 ', '3 ', '4 ', '16 ', '26 ']\n",
      "1/1 [==============================] - 0s 41ms/step\n"
     ]
    },
    {
     "name": "stderr",
     "output_type": "stream",
     "text": [
      "\r",
      "  1%|          | 130/11702 [00:10<15:33, 12.39it/s]"
     ]
    },
    {
     "name": "stdout",
     "output_type": "stream",
     "text": [
      "['3 ', '5 ', '7 ', '8 ', '9 ', '10 ', '13 ', '15 ', '18 ', '19 ', '20 ', '22 ', '23 ', '24 ', '26 ', '27 ']\n",
      "1/1 [==============================] - 0s 42ms/step\n",
      "['1 ', '6 ', '7 ', '9 ', '11 ', '12 ', '13 ', '14 ', '16 ', '17 ', '18 ', '19 ', '20 ', '25 ', '26 ']\n",
      "1/1 [==============================] - 0s 42ms/step\n"
     ]
    },
    {
     "name": "stderr",
     "output_type": "stream",
     "text": [
      "\r",
      "  1%|          | 132/11702 [00:10<15:32, 12.41it/s]"
     ]
    },
    {
     "name": "stdout",
     "output_type": "stream",
     "text": [
      "['0 ', '1 ', '3 ', '5 ', '7 ', '15 ', '17 ', '18 ', '19 ', '21 ', '25 ']\n",
      "1/1 [==============================] - 0s 41ms/step\n",
      "['0 ']\n",
      "1/1 [==============================] - 0s 43ms/step\n"
     ]
    },
    {
     "name": "stderr",
     "output_type": "stream",
     "text": [
      "\r",
      "  1%|          | 134/11702 [00:10<15:30, 12.43it/s]"
     ]
    },
    {
     "name": "stdout",
     "output_type": "stream",
     "text": [
      "['0 ', '5 ', '7 ', '11 ', '19 ', '20 ', '22 ', '23 ', '24 ', '27 ']\n",
      "1/1 [==============================] - 0s 43ms/step\n",
      "['0 ', '1 ', '4 ', '5 ', '7 ', '9 ', '11 ', '12 ', '14 ', '15 ', '16 ', '17 ', '20 ', '23 ', '24 ', '27 ']\n",
      "1/1 [==============================] - 0s 43ms/step\n"
     ]
    },
    {
     "name": "stderr",
     "output_type": "stream",
     "text": [
      "\r",
      "  1%|          | 136/11702 [00:10<15:31, 12.41it/s]"
     ]
    },
    {
     "name": "stdout",
     "output_type": "stream",
     "text": [
      "['3 ', '5 ', '22 ', '24 ', '26 ', '27 ']\n",
      "1/1 [==============================] - 0s 43ms/step\n",
      "['0 ', '5 ', '7 ', '15 ', '16 ', '17 ', '18 ', '19 ', '20 ', '23 ', '24 ', '25 ', '27 ']\n",
      "1/1 [==============================] - 0s 42ms/step\n"
     ]
    },
    {
     "name": "stderr",
     "output_type": "stream",
     "text": [
      "\r",
      "  1%|          | 138/11702 [00:11<15:31, 12.42it/s]"
     ]
    },
    {
     "name": "stdout",
     "output_type": "stream",
     "text": [
      "['0 ', '2 ', '7 ', '11 ', '15 ', '16 ', '17 ', '18 ', '19 ', '22 ', '24 ', '27 ']\n",
      "1/1 [==============================] - 0s 42ms/step\n",
      "['0 ', '21 ', '25 ']\n",
      "1/1 [==============================] - 0s 44ms/step\n"
     ]
    },
    {
     "name": "stderr",
     "output_type": "stream",
     "text": [
      "\r",
      "  1%|          | 140/11702 [00:11<15:30, 12.42it/s]"
     ]
    },
    {
     "name": "stdout",
     "output_type": "stream",
     "text": [
      "['6 ', '7 ', '14 ', '17 ', '18 ', '21 ', '25 ']\n",
      "1/1 [==============================] - 0s 43ms/step\n",
      "['0 ', '5 ', '17 ', '18 ', '19 ', '25 ']\n",
      "1/1 [==============================] - 0s 43ms/step\n"
     ]
    },
    {
     "name": "stderr",
     "output_type": "stream",
     "text": [
      "\r",
      "  1%|          | 142/11702 [00:11<15:30, 12.42it/s]"
     ]
    },
    {
     "name": "stdout",
     "output_type": "stream",
     "text": [
      "['6 ', '7 ', '17 ', '18 ', '19 ', '25 ']\n",
      "1/1 [==============================] - 0s 42ms/step\n",
      "['0 ', '1 ', '4 ', '5 ', '8 ', '11 ', '20 ', '23 ', '27 ']\n",
      "1/1 [==============================] - 0s 42ms/step\n"
     ]
    },
    {
     "name": "stderr",
     "output_type": "stream",
     "text": [
      "\r",
      "  1%|          | 144/11702 [00:11<15:29, 12.43it/s]"
     ]
    },
    {
     "name": "stdout",
     "output_type": "stream",
     "text": [
      "['0 ', '5 ', '17 ']\n",
      "1/1 [==============================] - 0s 42ms/step\n",
      "['0 ', '2 ', '6 ', '17 ', '18 ', '19 ', '25 ']\n",
      "1/1 [==============================] - 0s 41ms/step\n"
     ]
    },
    {
     "name": "stderr",
     "output_type": "stream",
     "text": [
      "\r",
      "  1%|          | 146/11702 [00:11<15:28, 12.45it/s]"
     ]
    },
    {
     "name": "stdout",
     "output_type": "stream",
     "text": [
      "['8 ', '9 ', '10 ', '11 ', '13 ', '18 ', '19 ', '20 ', '22 ', '23 ', '24 ', '26 ', '27 ']\n",
      "1/1 [==============================] - 0s 43ms/step\n",
      "['0 ', '1 ', '2 ', '3 ', '7 ', '13 ', '15 ', '16 ', '17 ', '18 ', '19 ', '26 ']\n",
      "1/1 [==============================] - 0s 42ms/step\n"
     ]
    },
    {
     "name": "stderr",
     "output_type": "stream",
     "text": [
      "\r",
      "  1%|▏         | 148/11702 [00:11<15:27, 12.46it/s]"
     ]
    },
    {
     "name": "stdout",
     "output_type": "stream",
     "text": [
      "['0 ', '1 ', '6 ', '7 ', '11 ', '14 ', '16 ', '17 ', '21 ', '25 ']\n",
      "1/1 [==============================] - 0s 44ms/step\n",
      "['0 ', '4 ', '5 ', '7 ', '18 ', '19 ']\n",
      "1/1 [==============================] - 0s 42ms/step\n"
     ]
    },
    {
     "name": "stderr",
     "output_type": "stream",
     "text": [
      "\r",
      "  1%|▏         | 150/11702 [00:12<15:27, 12.46it/s]"
     ]
    },
    {
     "name": "stdout",
     "output_type": "stream",
     "text": [
      "['0 ', '6 ', '17 ', '18 ', '23 ', '25 ']\n",
      "1/1 [==============================] - 0s 41ms/step\n",
      "['0 ', '1 ', '2 ', '3 ', '5 ', '11 ', '23 ']\n",
      "1/1 [==============================] - 0s 42ms/step\n"
     ]
    },
    {
     "name": "stderr",
     "output_type": "stream",
     "text": [
      "\r",
      "  1%|▏         | 152/11702 [00:12<15:26, 12.47it/s]"
     ]
    },
    {
     "name": "stdout",
     "output_type": "stream",
     "text": [
      "['6 ', '7 ', '8 ', '9 ', '10 ', '15 ', '17 ', '18 ', '19 ', '20 ', '23 ']\n",
      "1/1 [==============================] - 0s 41ms/step\n",
      "['0 ', '1 ', '4 ', '5 ', '7 ', '20 ', '26 ', '27 ']\n",
      "1/1 [==============================] - 0s 42ms/step\n"
     ]
    },
    {
     "name": "stderr",
     "output_type": "stream",
     "text": [
      "\r",
      "  1%|▏         | 154/11702 [00:12<15:24, 12.49it/s]"
     ]
    },
    {
     "name": "stdout",
     "output_type": "stream",
     "text": [
      "['0 ', '25 ']\n",
      "1/1 [==============================] - 0s 43ms/step\n",
      "['2 ', '3 ', '6 ', '7 ', '8 ', '9 ', '10 ', '15 ', '17 ', '18 ', '20 ', '23 ', '25 ', '27 ']\n",
      "1/1 [==============================] - 0s 44ms/step\n"
     ]
    },
    {
     "name": "stderr",
     "output_type": "stream",
     "text": [
      "\r",
      "  1%|▏         | 156/11702 [00:12<15:24, 12.49it/s]"
     ]
    },
    {
     "name": "stdout",
     "output_type": "stream",
     "text": [
      "['6 ', '7 ', '8 ', '17 ', '23 ']\n",
      "1/1 [==============================] - 0s 43ms/step\n",
      "['0 ', '1 ', '7 ', '16 ', '17 ', '18 ']\n",
      "1/1 [==============================] - 0s 42ms/step\n"
     ]
    },
    {
     "name": "stderr",
     "output_type": "stream",
     "text": [
      "\r",
      "  1%|▏         | 158/11702 [00:12<15:23, 12.50it/s]"
     ]
    },
    {
     "name": "stdout",
     "output_type": "stream",
     "text": [
      "['0 ', '1 ', '6 ', '11 ', '16 ', '17 ', '21 ', '25 ']\n",
      "1/1 [==============================] - 0s 43ms/step\n",
      "['0 ', '1 ', '2 ', '6 ', '8 ', '14 ', '17 ']\n",
      "1/1 [==============================] - 0s 42ms/step\n"
     ]
    },
    {
     "name": "stderr",
     "output_type": "stream",
     "text": [
      "\r",
      "  1%|▏         | 160/11702 [00:12<15:23, 12.50it/s]"
     ]
    },
    {
     "name": "stdout",
     "output_type": "stream",
     "text": [
      "['7 ', '17 ', '18 ', '19 ', '20 ', '23 ']\n",
      "1/1 [==============================] - 0s 42ms/step\n",
      "['0 ', '5 ', '7 ', '9 ', '11 ', '15 ', '16 ', '17 ', '18 ', '19 ', '20 ', '23 ', '24 ', '25 ', '26 ', '27 ']\n",
      "1/1 [==============================] - 0s 43ms/step\n"
     ]
    },
    {
     "name": "stderr",
     "output_type": "stream",
     "text": [
      "\r",
      "  1%|▏         | 162/11702 [00:12<15:21, 12.52it/s]"
     ]
    },
    {
     "name": "stdout",
     "output_type": "stream",
     "text": [
      "['0 ', '17 ', '21 ', '25 ']\n",
      "1/1 [==============================] - 0s 44ms/step\n",
      "['0 ', '1 ', '6 ', '7 ', '9 ', '11 ', '16 ', '17 ', '18 ', '19 ', '25 ']\n",
      "1/1 [==============================] - 0s 44ms/step\n"
     ]
    },
    {
     "name": "stderr",
     "output_type": "stream",
     "text": [
      "\r",
      "  1%|▏         | 164/11702 [00:13<15:22, 12.51it/s]"
     ]
    },
    {
     "name": "stdout",
     "output_type": "stream",
     "text": [
      "['1 ', '4 ', '5 ', '12 ', '15 ', '17 ', '25 ', '27 ']\n",
      "1/1 [==============================] - 0s 45ms/step\n",
      "['1 ', '3 ', '4 ', '5 ']\n",
      "1/1 [==============================] - 0s 43ms/step\n"
     ]
    },
    {
     "name": "stderr",
     "output_type": "stream",
     "text": [
      "\r",
      "  1%|▏         | 166/11702 [00:13<15:22, 12.51it/s]"
     ]
    },
    {
     "name": "stdout",
     "output_type": "stream",
     "text": [
      "['0 ', '13 ', '21 ', '23 ']\n",
      "1/1 [==============================] - 0s 43ms/step\n",
      "['0 ', '2 ', '5 ', '12 ', '13 ', '15 ', '16 ', '18 ', '19 ', '21 ', '22 ', '24 ', '25 ', '26 ', '27 ']\n",
      "1/1 [==============================] - 0s 43ms/step\n"
     ]
    },
    {
     "name": "stderr",
     "output_type": "stream",
     "text": [
      "\r",
      "  1%|▏         | 168/11702 [00:13<15:22, 12.50it/s]"
     ]
    },
    {
     "name": "stdout",
     "output_type": "stream",
     "text": [
      "['5 ', '7 ', '8 ', '9 ', '10 ', '11 ', '13 ', '15 ', '16 ', '17 ', '18 ', '19 ', '20 ', '22 ', '23 ', '24 ', '26 ', '27 ']\n",
      "1/1 [==============================] - 0s 44ms/step\n",
      "['0 ', '7 ', '17 ', '21 ', '23 ', '25 ']\n",
      "1/1 [==============================] - 0s 42ms/step\n"
     ]
    },
    {
     "name": "stderr",
     "output_type": "stream",
     "text": [
      "\r",
      "  1%|▏         | 170/11702 [00:13<15:22, 12.51it/s]"
     ]
    },
    {
     "name": "stdout",
     "output_type": "stream",
     "text": [
      "['6 ', '7 ', '17 ', '18 ', '19 ', '23 ', '25 ', '26 ']\n",
      "1/1 [==============================] - 0s 43ms/step\n",
      "['1 ', '3 ', '4 ', '5 ', '6 ', '8 ', '12 ', '14 ', '15 ', '24 ', '25 ', '27 ']\n",
      "1/1 [==============================] - 0s 43ms/step\n"
     ]
    },
    {
     "name": "stderr",
     "output_type": "stream",
     "text": [
      "\r",
      "  1%|▏         | 172/11702 [00:13<15:22, 12.49it/s]"
     ]
    },
    {
     "name": "stdout",
     "output_type": "stream",
     "text": [
      "['0 ', '5 ', '6 ', '7 ', '8 ', '9 ', '10 ', '14 ', '15 ', '16 ', '17 ', '18 ', '20 ', '21 ', '22 ', '23 ', '24 ', '25 ', '27 ']\n",
      "1/1 [==============================] - 0s 42ms/step\n",
      "['0 ', '1 ', '6 ', '11 ', '16 ', '17 ', '25 ']\n",
      "1/1 [==============================] - 0s 44ms/step\n"
     ]
    },
    {
     "name": "stderr",
     "output_type": "stream",
     "text": [
      "\r",
      "  1%|▏         | 174/11702 [00:13<15:22, 12.50it/s]"
     ]
    },
    {
     "name": "stdout",
     "output_type": "stream",
     "text": [
      "['2 ', '7 ', '17 ', '21 ', '23 ', '25 ']\n",
      "1/1 [==============================] - 0s 45ms/step\n",
      "['0 ', '2 ', '7 ', '15 ', '19 ']\n",
      "1/1 [==============================] - 0s 43ms/step\n"
     ]
    },
    {
     "name": "stderr",
     "output_type": "stream",
     "text": [
      "\r",
      "  2%|▏         | 176/11702 [00:14<15:22, 12.49it/s]"
     ]
    },
    {
     "name": "stdout",
     "output_type": "stream",
     "text": [
      "['0 ', '2 ', '4 ', '7 ', '18 ', '19 ', '25 ']\n",
      "1/1 [==============================] - 0s 43ms/step\n",
      "['17 ', '21 ', '22 ', '23 ', '25 ']\n",
      "1/1 [==============================] - 0s 42ms/step\n"
     ]
    },
    {
     "name": "stderr",
     "output_type": "stream",
     "text": [
      "\r",
      "  2%|▏         | 178/11702 [00:14<15:23, 12.48it/s]"
     ]
    },
    {
     "name": "stdout",
     "output_type": "stream",
     "text": [
      "['0 ', '1 ', '3 ', '4 ', '5 ', '6 ', '7 ', '8 ', '9 ', '10 ', '11 ', '14 ', '15 ', '16 ', '17 ', '18 ', '19 ', '20 ', '21 ', '24 ', '25 ', '26 ', '27 ']\n",
      "1/1 [==============================] - 0s 42ms/step\n",
      "['0 ', '11 ', '12 ', '14 ', '16 ', '17 ', '21 ', '22 ']\n",
      "1/1 [==============================] - 0s 43ms/step\n"
     ]
    },
    {
     "name": "stderr",
     "output_type": "stream",
     "text": [
      "\r",
      "  2%|▏         | 180/11702 [00:14<15:22, 12.49it/s]"
     ]
    },
    {
     "name": "stdout",
     "output_type": "stream",
     "text": [
      "['0 ', '1 ', '2 ', '3 ', '4 ', '5 ', '7 ', '15 ', '17 ', '18 ', '19 ', '25 ']\n",
      "1/1 [==============================] - 0s 44ms/step\n",
      "['0 ', '4 ', '5 ', '7 ', '11 ']\n",
      "1/1 [==============================] - 0s 43ms/step\n"
     ]
    },
    {
     "name": "stderr",
     "output_type": "stream",
     "text": [
      "\r",
      "  2%|▏         | 182/11702 [00:14<15:22, 12.49it/s]"
     ]
    },
    {
     "name": "stdout",
     "output_type": "stream",
     "text": [
      "['3 ', '4 ', '6 ', '8 ', '9 ', '10 ', '15 ', '17 ', '20 ', '23 ', '27 ']\n",
      "1/1 [==============================] - 0s 44ms/step\n",
      "['0 ', '2 ', '3 ', '5 ', '7 ', '19 ', '23 ', '24 ', '27 ']\n",
      "1/1 [==============================] - 0s 43ms/step\n"
     ]
    },
    {
     "name": "stderr",
     "output_type": "stream",
     "text": [
      "\r",
      "  2%|▏         | 184/11702 [00:14<15:22, 12.49it/s]"
     ]
    },
    {
     "name": "stdout",
     "output_type": "stream",
     "text": [
      "['0 ', '1 ', '5 ', '7 ', '15 ', '18 ', '19 ', '20 ', '24 ', '26 ', '27 ']\n",
      "1/1 [==============================] - 0s 43ms/step\n",
      "['6 ', '8 ', '14 ', '16 ', '17 ', '23 ']\n",
      "1/1 [==============================] - 0s 43ms/step\n"
     ]
    },
    {
     "name": "stderr",
     "output_type": "stream",
     "text": [
      "\r",
      "  2%|▏         | 186/11702 [00:14<15:21, 12.49it/s]"
     ]
    },
    {
     "name": "stdout",
     "output_type": "stream",
     "text": [
      "['0 ', '1 ', '11 ', '12 ', '16 ', '17 ', '18 ', '21 ', '25 ']\n",
      "1/1 [==============================] - 0s 44ms/step\n",
      "['0 ', '1 ', '16 ', '17 ', '18 ', '19 ', '21 ', '25 ']\n",
      "1/1 [==============================] - 0s 43ms/step\n"
     ]
    },
    {
     "name": "stderr",
     "output_type": "stream",
     "text": [
      "\r",
      "  2%|▏         | 188/11702 [00:15<15:22, 12.49it/s]"
     ]
    },
    {
     "name": "stdout",
     "output_type": "stream",
     "text": [
      "['0 ', '2 ', '3 ', '5 ', '6 ', '7 ', '8 ', '9 ', '10 ', '15 ', '16 ', '17 ', '18 ', '19 ', '20 ', '23 ', '24 ', '25 ', '27 ']\n",
      "1/1 [==============================] - 0s 41ms/step\n",
      "['4 ', '6 ', '7 ', '8 ', '9 ', '10 ', '20 ', '23 ', '27 ']\n",
      "1/1 [==============================] - 0s 42ms/step\n"
     ]
    },
    {
     "name": "stderr",
     "output_type": "stream",
     "text": [
      "\r",
      "  2%|▏         | 190/11702 [00:15<15:21, 12.50it/s]"
     ]
    },
    {
     "name": "stdout",
     "output_type": "stream",
     "text": [
      "['2 ', '4 ', '6 ', '7 ', '9 ', '10 ', '12 ', '13 ', '14 ', '15 ', '17 ', '18 ', '19 ', '21 ', '25 ', '26 ']\n",
      "1/1 [==============================] - 0s 42ms/step\n",
      "['6 ', '7 ', '13 ', '17 ', '18 ', '21 ', '23 ', '25 ']\n",
      "1/1 [==============================] - 0s 43ms/step\n"
     ]
    },
    {
     "name": "stderr",
     "output_type": "stream",
     "text": [
      "\r",
      "  2%|▏         | 192/11702 [00:15<15:20, 12.50it/s]"
     ]
    },
    {
     "name": "stdout",
     "output_type": "stream",
     "text": [
      "['0 ', '4 ', '5 ', '6 ', '14 ', '17 ', '25 ']\n",
      "1/1 [==============================] - 0s 43ms/step\n",
      "['5 ', '11 ', '19 ', '23 ', '25 ', '26 ']\n",
      "1/1 [==============================] - 0s 42ms/step\n"
     ]
    },
    {
     "name": "stderr",
     "output_type": "stream",
     "text": [
      "\r",
      "  2%|▏         | 194/11702 [00:15<15:20, 12.50it/s]"
     ]
    },
    {
     "name": "stdout",
     "output_type": "stream",
     "text": [
      "['3 ', '5 ', '6 ', '7 ', '8 ', '9 ', '10 ', '17 ', '18 ', '19 ', '20 ', '23 ', '24 ', '25 ', '26 ', '27 ']\n",
      "1/1 [==============================] - 0s 43ms/step\n",
      "['0 ', '1 ', '3 ', '5 ', '6 ', '8 ', '13 ', '14 ', '16 ', '17 ', '18 ', '19 ', '20 ', '22 ', '24 ', '25 ', '26 ', '27 ']\n",
      "1/1 [==============================] - 0s 42ms/step\n"
     ]
    },
    {
     "name": "stderr",
     "output_type": "stream",
     "text": [
      "\r",
      "  2%|▏         | 196/11702 [00:15<15:19, 12.51it/s]"
     ]
    },
    {
     "name": "stdout",
     "output_type": "stream",
     "text": [
      "['13 ', '22 ', '23 ', '26 ']\n",
      "1/1 [==============================] - 0s 41ms/step\n",
      "['0 ', '1 ', '16 ', '25 ']\n",
      "1/1 [==============================] - 0s 43ms/step\n"
     ]
    },
    {
     "name": "stderr",
     "output_type": "stream",
     "text": [
      "\r",
      "  2%|▏         | 198/11702 [00:15<15:18, 12.52it/s]"
     ]
    },
    {
     "name": "stdout",
     "output_type": "stream",
     "text": [
      "['7 ', '18 ', '19 ', '20 ', '23 ', '25 ', '26 ']\n",
      "1/1 [==============================] - 0s 42ms/step\n",
      "['6 ', '7 ', '17 ', '18 ', '23 ']\n",
      "1/1 [==============================] - 0s 42ms/step\n"
     ]
    },
    {
     "name": "stderr",
     "output_type": "stream",
     "text": [
      "\r",
      "  2%|▏         | 200/11702 [00:15<15:18, 12.52it/s]"
     ]
    },
    {
     "name": "stdout",
     "output_type": "stream",
     "text": [
      "['0 ', '4 ', '5 ', '7 ', '10 ', '12 ', '13 ', '14 ', '16 ', '18 ', '19 ', '21 ', '22 ', '24 ', '25 ', '26 ', '27 ']\n",
      "1/1 [==============================] - 0s 42ms/step\n",
      "['2 ', '6 ', '8 ', '10 ', '12 ', '14 ', '15 ', '16 ', '17 ', '18 ', '19 ', '21 ', '22 ', '24 ', '25 ', '27 ']\n",
      "1/1 [==============================] - 0s 43ms/step\n"
     ]
    },
    {
     "name": "stderr",
     "output_type": "stream",
     "text": [
      "\r",
      "  2%|▏         | 202/11702 [00:16<15:17, 12.53it/s]"
     ]
    },
    {
     "name": "stdout",
     "output_type": "stream",
     "text": [
      "['0 ', '1 ', '2 ', '3 ', '4 ', '5 ', '25 ']\n",
      "1/1 [==============================] - 0s 43ms/step\n",
      "['0 ', '5 ']\n",
      "1/1 [==============================] - 0s 42ms/step\n"
     ]
    },
    {
     "name": "stderr",
     "output_type": "stream",
     "text": [
      "\r",
      "  2%|▏         | 204/11702 [00:16<15:16, 12.55it/s]"
     ]
    },
    {
     "name": "stdout",
     "output_type": "stream",
     "text": [
      "['0 ', '1 ', '5 ', '17 ', '18 ', '19 ', '25 ']\n",
      "1/1 [==============================] - 0s 43ms/step\n",
      "['0 ', '1 ', '2 ', '3 ', '4 ', '5 ', '6 ', '7 ', '8 ', '9 ', '10 ', '13 ', '15 ', '16 ', '18 ', '19 ', '20 ', '24 ', '25 ', '26 ', '27 ']\n",
      "1/1 [==============================] - 0s 42ms/step\n"
     ]
    },
    {
     "name": "stderr",
     "output_type": "stream",
     "text": [
      "\r",
      "  2%|▏         | 206/11702 [00:16<15:15, 12.56it/s]"
     ]
    },
    {
     "name": "stdout",
     "output_type": "stream",
     "text": [
      "['7 ', '17 ', '18 ', '19 ', '21 ', '23 ', '25 ']\n",
      "1/1 [==============================] - 0s 42ms/step\n",
      "['0 ', '1 ', '6 ', '17 ', '18 ', '25 ']\n",
      "1/1 [==============================] - 0s 43ms/step\n"
     ]
    },
    {
     "name": "stderr",
     "output_type": "stream",
     "text": [
      "\r",
      "  2%|▏         | 208/11702 [00:16<15:14, 12.57it/s]"
     ]
    },
    {
     "name": "stdout",
     "output_type": "stream",
     "text": [
      "['0 ', '3 ', '4 ', '5 ', '17 ', '18 ', '19 ', '24 ']\n",
      "1/1 [==============================] - 0s 43ms/step\n",
      "['0 ', '1 ', '7 ', '17 ', '18 ', '25 ']\n",
      "1/1 [==============================] - 0s 42ms/step\n"
     ]
    },
    {
     "name": "stderr",
     "output_type": "stream",
     "text": [
      "\r",
      "  2%|▏         | 210/11702 [00:16<15:13, 12.58it/s]"
     ]
    },
    {
     "name": "stdout",
     "output_type": "stream",
     "text": [
      "['0 ', '21 ', '25 ']\n",
      "1/1 [==============================] - 0s 44ms/step\n",
      "['0 ', '5 ', '12 ', '14 ', '16 ', '21 ', '22 ', '25 ']\n",
      "1/1 [==============================] - 0s 44ms/step\n"
     ]
    },
    {
     "name": "stderr",
     "output_type": "stream",
     "text": [
      "\r",
      "  2%|▏         | 212/11702 [00:16<15:14, 12.57it/s]"
     ]
    },
    {
     "name": "stdout",
     "output_type": "stream",
     "text": [
      "['0 ', '5 ', '7 ', '19 ']\n",
      "1/1 [==============================] - 0s 43ms/step\n",
      "['5 ', '6 ', '7 ', '8 ', '9 ', '10 ', '15 ', '17 ', '18 ', '20 ', '23 ', '25 ', '27 ']\n",
      "1/1 [==============================] - 0s 43ms/step\n"
     ]
    },
    {
     "name": "stderr",
     "output_type": "stream",
     "text": [
      "\r",
      "  2%|▏         | 214/11702 [00:17<15:14, 12.56it/s]"
     ]
    },
    {
     "name": "stdout",
     "output_type": "stream",
     "text": [
      "['0 ', '5 ', '17 ']\n",
      "1/1 [==============================] - 0s 42ms/step\n",
      "['4 ', '7 ', '18 ', '19 ', '25 ', '26 ']\n",
      "1/1 [==============================] - 0s 44ms/step\n"
     ]
    },
    {
     "name": "stderr",
     "output_type": "stream",
     "text": [
      "\r",
      "  2%|▏         | 216/11702 [00:17<15:13, 12.57it/s]"
     ]
    },
    {
     "name": "stdout",
     "output_type": "stream",
     "text": [
      "['0 ', '4 ', '5 ', '25 ']\n",
      "1/1 [==============================] - 0s 43ms/step\n",
      "['3 ', '4 ', '6 ', '7 ', '8 ', '9 ', '10 ', '11 ', '18 ', '19 ', '20 ', '23 ', '24 ', '26 ']\n",
      "1/1 [==============================] - 0s 42ms/step\n"
     ]
    },
    {
     "name": "stderr",
     "output_type": "stream",
     "text": [
      "\r",
      "  2%|▏         | 218/11702 [00:17<15:12, 12.58it/s]"
     ]
    },
    {
     "name": "stdout",
     "output_type": "stream",
     "text": [
      "['7 ', '17 ', '18 ', '19 ', '20 ', '23 ', '24 ', '25 ', '26 ']\n",
      "1/1 [==============================] - 0s 43ms/step\n",
      "['1 ', '2 ', '3 ', '8 ', '9 ', '10 ', '12 ', '13 ', '15 ', '20 ', '21 ', '22 ', '23 ', '24 ', '26 ', '27 ']\n",
      "1/1 [==============================] - 0s 41ms/step\n"
     ]
    },
    {
     "name": "stderr",
     "output_type": "stream",
     "text": [
      "\r",
      "  2%|▏         | 220/11702 [00:17<15:12, 12.59it/s]"
     ]
    },
    {
     "name": "stdout",
     "output_type": "stream",
     "text": [
      "['0 ', '1 ', '2 ', '3 ', '5 ', '6 ', '7 ', '8 ', '9 ', '10 ', '11 ', '14 ', '15 ', '16 ', '17 ', '20 ', '21 ', '22 ', '23 ', '24 ', '27 ']\n",
      "1/1 [==============================] - 0s 42ms/step\n",
      "['0 ', '1 ', '2 ', '3 ', '5 ', '7 ', '8 ', '9 ', '10 ', '13 ', '15 ', '16 ', '17 ', '18 ', '19 ', '20 ', '22 ', '24 ', '26 ', '27 ']\n",
      "1/1 [==============================] - 0s 42ms/step\n"
     ]
    },
    {
     "name": "stderr",
     "output_type": "stream",
     "text": [
      "\r",
      "  2%|▏         | 222/11702 [00:17<15:12, 12.58it/s]"
     ]
    },
    {
     "name": "stdout",
     "output_type": "stream",
     "text": [
      "['0 ', '1 ', '5 ', '6 ', '12 ', '13 ', '14 ', '16 ', '17 ', '18 ', '19 ', '21 ', '22 ', '24 ', '25 ']\n",
      "1/1 [==============================] - 0s 43ms/step\n",
      "['0 ', '1 ', '3 ', '7 ', '9 ', '11 ', '12 ', '13 ', '15 ', '16 ', '18 ', '19 ', '20 ', '22 ', '26 ', '27 ']\n",
      "1/1 [==============================] - 0s 43ms/step\n"
     ]
    },
    {
     "name": "stderr",
     "output_type": "stream",
     "text": [
      "\r",
      "  2%|▏         | 224/11702 [00:17<15:11, 12.59it/s]"
     ]
    },
    {
     "name": "stdout",
     "output_type": "stream",
     "text": [
      "['1 ', '2 ', '3 ', '4 ', '6 ', '7 ', '8 ', '9 ', '10 ', '11 ', '12 ', '13 ', '14 ', '15 ', '16 ', '18 ', '19 ', '20 ', '22 ', '24 ', '26 ', '27 ']\n",
      "1/1 [==============================] - 0s 43ms/step\n",
      "['3 ', '6 ', '7 ', '8 ', '9 ', '10 ', '18 ', '19 ', '20 ', '23 ']\n",
      "1/1 [==============================] - 0s 45ms/step\n"
     ]
    },
    {
     "name": "stderr",
     "output_type": "stream",
     "text": [
      "\r",
      "  2%|▏         | 226/11702 [00:17<15:11, 12.59it/s]"
     ]
    },
    {
     "name": "stdout",
     "output_type": "stream",
     "text": [
      "['0 ', '1 ', '7 ', '8 ', '17 ', '20 ', '23 ']\n",
      "1/1 [==============================] - 0s 42ms/step\n",
      "['6 ', '14 ', '17 ', '21 ', '23 ', '25 ']\n",
      "1/1 [==============================] - 0s 42ms/step\n"
     ]
    },
    {
     "name": "stderr",
     "output_type": "stream",
     "text": [
      "\r",
      "  2%|▏         | 228/11702 [00:18<15:11, 12.59it/s]"
     ]
    },
    {
     "name": "stdout",
     "output_type": "stream",
     "text": [
      "['2 ', '3 ', '4 ', '12 ', '13 ', '14 ', '18 ', '19 ', '21 ', '25 ', '26 ']\n",
      "1/1 [==============================] - 0s 42ms/step\n",
      "['0 ', '3 ', '4 ', '5 ', '7 ', '18 ', '19 ', '24 ', '26 ']\n",
      "1/1 [==============================] - 0s 43ms/step\n"
     ]
    },
    {
     "name": "stderr",
     "output_type": "stream",
     "text": [
      "\r",
      "  2%|▏         | 230/11702 [00:18<15:10, 12.60it/s]"
     ]
    },
    {
     "name": "stdout",
     "output_type": "stream",
     "text": [
      "['0 ', '1 ', '2 ', '3 ', '4 ', '5 ', '7 ', '8 ', '9 ', '10 ', '11 ', '15 ', '16 ', '18 ', '19 ', '20 ', '24 ', '26 ', '27 ']\n",
      "1/1 [==============================] - 0s 43ms/step\n",
      "['0 ', '5 ', '11 ', '12 ', '17 ', '21 ', '23 ', '25 ']\n",
      "1/1 [==============================] - 0s 42ms/step\n"
     ]
    },
    {
     "name": "stderr",
     "output_type": "stream",
     "text": [
      "\r",
      "  2%|▏         | 232/11702 [00:18<15:10, 12.60it/s]"
     ]
    },
    {
     "name": "stdout",
     "output_type": "stream",
     "text": [
      "['0 ', '5 ', '7 ', '11 ', '14 ', '16 ', '20 ', '23 ', '25 ', '27 ']\n",
      "1/1 [==============================] - 0s 43ms/step\n",
      "['0 ', '2 ', '3 ', '5 ', '7 ', '15 ', '17 ', '18 ', '19 ', '25 ']\n",
      "1/1 [==============================] - 0s 42ms/step\n"
     ]
    },
    {
     "name": "stderr",
     "output_type": "stream",
     "text": [
      "\r",
      "  2%|▏         | 234/11702 [00:18<15:09, 12.61it/s]"
     ]
    },
    {
     "name": "stdout",
     "output_type": "stream",
     "text": [
      "['0 ', '7 ', '8 ', '9 ', '10 ', '15 ', '20 ', '21 ', '22 ', '23 ', '25 ', '27 ']\n",
      "1/1 [==============================] - 0s 43ms/step\n",
      "['0 ', '5 ', '7 ', '18 ', '20 ', '23 ', '25 ']\n",
      "1/1 [==============================] - 0s 42ms/step\n"
     ]
    },
    {
     "name": "stderr",
     "output_type": "stream",
     "text": [
      "\r",
      "  2%|▏         | 236/11702 [00:18<15:09, 12.61it/s]"
     ]
    },
    {
     "name": "stdout",
     "output_type": "stream",
     "text": [
      "['1 ', '3 ', '4 ', '5 ', '6 ', '8 ', '9 ', '10 ', '11 ', '12 ', '14 ', '16 ', '17 ', '20 ', '23 ', '24 ', '27 ']\n",
      "1/1 [==============================] - 0s 43ms/step\n",
      "['7 ', '18 ', '19 ', '20 ', '23 ', '26 ']\n",
      "1/1 [==============================] - 0s 43ms/step\n"
     ]
    },
    {
     "name": "stderr",
     "output_type": "stream",
     "text": [
      "\r",
      "  2%|▏         | 238/11702 [00:18<15:08, 12.62it/s]"
     ]
    },
    {
     "name": "stdout",
     "output_type": "stream",
     "text": [
      "['0 ', '1 ', '2 ', '3 ', '4 ', '5 ', '8 ', '9 ', '10 ', '12 ', '13 ', '14 ', '15 ', '16 ', '18 ', '19 ', '21 ', '22 ', '24 ', '26 ', '27 ']\n",
      "1/1 [==============================] - 0s 42ms/step\n",
      "['0 ', '7 ', '17 ', '18 ', '19 ', '25 ']\n",
      "1/1 [==============================] - 0s 43ms/step\n"
     ]
    },
    {
     "name": "stderr",
     "output_type": "stream",
     "text": [
      "\r",
      "  2%|▏         | 240/11702 [00:19<15:07, 12.63it/s]"
     ]
    },
    {
     "name": "stdout",
     "output_type": "stream",
     "text": [
      "['5 ', '7 ', '17 ', '18 ', '19 ', '21 ', '25 ']\n",
      "1/1 [==============================] - 0s 42ms/step\n",
      "['11 ', '12 ', '13 ', '14 ', '21 ', '22 ', '23 ']\n",
      "1/1 [==============================] - 0s 42ms/step\n"
     ]
    },
    {
     "name": "stderr",
     "output_type": "stream",
     "text": [
      "\r",
      "  2%|▏         | 242/11702 [00:19<15:06, 12.64it/s]"
     ]
    },
    {
     "name": "stdout",
     "output_type": "stream",
     "text": [
      "['2 ', '7 ', '13 ', '17 ', '20 ', '21 ', '23 ', '25 ']\n",
      "1/1 [==============================] - 0s 44ms/step\n",
      "['0 ', '6 ', '7 ', '10 ', '15 ', '17 ', '18 ', '19 ', '21 ', '23 ', '25 ']\n",
      "1/1 [==============================] - 0s 45ms/step\n"
     ]
    },
    {
     "name": "stderr",
     "output_type": "stream",
     "text": [
      "\r",
      "  2%|▏         | 244/11702 [00:19<15:07, 12.63it/s]"
     ]
    },
    {
     "name": "stdout",
     "output_type": "stream",
     "text": [
      "['0 ', '1 ', '11 ', '16 ', '17 ', '21 ', '25 ']\n",
      "1/1 [==============================] - 0s 42ms/step\n",
      "['1 ', '4 ', '6 ', '7 ', '8 ', '9 ', '10 ', '11 ', '13 ', '14 ', '15 ', '16 ', '17 ', '18 ', '20 ', '23 ', '25 ', '26 ', '27 ']\n",
      "1/1 [==============================] - 0s 43ms/step\n"
     ]
    },
    {
     "name": "stderr",
     "output_type": "stream",
     "text": [
      "\r",
      "  2%|▏         | 246/11702 [00:19<15:07, 12.63it/s]"
     ]
    },
    {
     "name": "stdout",
     "output_type": "stream",
     "text": [
      "['1 ', '2 ', '3 ', '4 ', '5 ', '8 ', '9 ', '10 ', '12 ', '13 ', '15 ', '20 ', '22 ', '23 ', '27 ']\n",
      "1/1 [==============================] - 0s 42ms/step\n",
      "['6 ', '7 ', '17 ', '18 ', '19 ', '25 ']\n",
      "1/1 [==============================] - 0s 43ms/step\n"
     ]
    },
    {
     "name": "stderr",
     "output_type": "stream",
     "text": [
      "\r",
      "  2%|▏         | 248/11702 [00:19<15:06, 12.63it/s]"
     ]
    },
    {
     "name": "stdout",
     "output_type": "stream",
     "text": [
      "['1 ', '3 ', '4 ', '5 ']\n",
      "1/1 [==============================] - 0s 43ms/step\n",
      "['4 ', '7 ', '8 ', '9 ', '10 ', '12 ', '13 ', '15 ', '20 ', '21 ', '22 ', '23 ', '26 ', '27 ']\n",
      "1/1 [==============================] - 0s 41ms/step\n"
     ]
    },
    {
     "name": "stderr",
     "output_type": "stream",
     "text": [
      "\r",
      "  2%|▏         | 250/11702 [00:19<15:06, 12.63it/s]"
     ]
    },
    {
     "name": "stdout",
     "output_type": "stream",
     "text": [
      "['0 ', '1 ', '5 ', '7 ', '17 ', '18 ', '19 ']\n",
      "1/1 [==============================] - 0s 42ms/step\n",
      "['0 ', '5 ', '13 ', '16 ', '18 ', '19 ', '24 ', '25 ', '26 ']\n",
      "1/1 [==============================] - 0s 43ms/step\n"
     ]
    },
    {
     "name": "stderr",
     "output_type": "stream",
     "text": [
      "\r",
      "  2%|▏         | 252/11702 [00:19<15:06, 12.64it/s]"
     ]
    },
    {
     "name": "stdout",
     "output_type": "stream",
     "text": [
      "['0 ', '1 ', '4 ', '7 ', '12 ', '13 ', '14 ', '16 ', '18 ', '19 ', '21 ', '25 ', '26 ']\n",
      "1/1 [==============================] - 0s 42ms/step\n",
      "['1 ', '2 ', '3 ', '6 ', '7 ', '8 ', '9 ', '10 ', '15 ', '16 ', '17 ', '18 ', '20 ', '23 ', '25 ']\n",
      "1/1 [==============================] - 0s 42ms/step\n"
     ]
    },
    {
     "name": "stderr",
     "output_type": "stream",
     "text": [
      "\r",
      "  2%|▏         | 254/11702 [00:20<15:05, 12.64it/s]"
     ]
    },
    {
     "name": "stdout",
     "output_type": "stream",
     "text": [
      "['0 ']\n",
      "1/1 [==============================] - 0s 42ms/step\n",
      "['0 ', '5 ', '17 ', '18 ', '19 ', '25 ']\n",
      "1/1 [==============================] - 0s 44ms/step\n"
     ]
    },
    {
     "name": "stderr",
     "output_type": "stream",
     "text": [
      "\r",
      "  2%|▏         | 256/11702 [00:20<15:05, 12.64it/s]"
     ]
    },
    {
     "name": "stdout",
     "output_type": "stream",
     "text": [
      "['1 ', '6 ', '8 ', '11 ', '14 ', '17 ', '20 ', '23 ']\n",
      "1/1 [==============================] - 0s 44ms/step\n",
      "['7 ', '15 ', '17 ', '21 ', '23 ']\n",
      "1/1 [==============================] - 0s 44ms/step\n"
     ]
    },
    {
     "name": "stderr",
     "output_type": "stream",
     "text": [
      "\r",
      "  2%|▏         | 258/11702 [00:20<15:06, 12.63it/s]"
     ]
    },
    {
     "name": "stdout",
     "output_type": "stream",
     "text": [
      "['1 ', '2 ', '3 ', '5 ', '8 ', '15 ', '18 ', '19 ', '24 ', '26 ', '27 ']\n",
      "1/1 [==============================] - 0s 45ms/step\n",
      "['7 ', '23 ']\n",
      "1/1 [==============================] - 0s 43ms/step\n"
     ]
    },
    {
     "name": "stderr",
     "output_type": "stream",
     "text": [
      "\r",
      "  2%|▏         | 260/11702 [00:20<15:06, 12.62it/s]"
     ]
    },
    {
     "name": "stdout",
     "output_type": "stream",
     "text": [
      "['4 ', '12 ', '13 ', '14 ', '21 ', '22 ', '25 ', '26 ']\n"
     ]
    }
   ],
   "source": [
    "tf_session = K.get_session()\n",
    "df_train = pd.read_csv(sample_csv_path)\n",
    "for row in tqdm(df_train.values[:]):\n",
    "    f = row[0]\n",
    "    tag_files = [FLAG_TEST_DATASET_IMAGE+'/{}'.format(f)+'_blue.png', FLAG_TEST_DATASET_IMAGE+'/{}'.format(f)+'_green.png', FLAG_TEST_DATASET_IMAGE+'/{}'.format(f)+'_blue.png', FLAG_TEST_DATASET_IMAGE+'/{}'.format(f)+'_yellow.png']\n",
    "    new_image = np.zeros((0, FLAS_HP_IMAGE_SIZE, FLAS_HP_IMAGE_SIZE))\n",
    "    for file in tag_files:\n",
    "        img = cv2.imread(file, cv2.IMREAD_GRAYSCALE)\n",
    "        img = img / 255.\n",
    "        img = np.expand_dims(img, axis=0)\n",
    "        new_image = np.vstack((new_image, img))        \n",
    "    \n",
    "    new_image = np.transpose(new_image, (1,2,0))\n",
    "    new_image = np.expand_dims(new_image, axis=0)\n",
    "        \n",
    "    validation_y_pred = model.predict(\n",
    "        new_image, \n",
    "        batch_size=1, \n",
    "        verbose=1,\n",
    "    )\n",
    "    \n",
    "    pred_index = []\n",
    "    for i, v in enumerate(validation_y_pred[0]):\n",
    "        if v>0.5:\n",
    "            pred_index.append(str(i)+' ')\n",
    "    \n",
    "    row[1] = pred_index\n",
    "    print(row[1])\n",
    "\n",
    "df.to_csv(submission_csv_path, encoding='utf-8', index=False)"
   ]
  },
  {
   "cell_type": "code",
   "execution_count": null,
   "metadata": {
    "collapsed": true
   },
   "outputs": [],
   "source": []
  },
  {
   "cell_type": "code",
   "execution_count": null,
   "metadata": {
    "collapsed": true
   },
   "outputs": [],
   "source": []
  },
  {
   "cell_type": "code",
   "execution_count": null,
   "metadata": {
    "collapsed": true
   },
   "outputs": [],
   "source": []
  },
  {
   "cell_type": "code",
   "execution_count": null,
   "metadata": {
    "collapsed": true
   },
   "outputs": [],
   "source": []
  },
  {
   "cell_type": "code",
   "execution_count": null,
   "metadata": {
    "collapsed": true
   },
   "outputs": [],
   "source": []
  },
  {
   "cell_type": "code",
   "execution_count": null,
   "metadata": {
    "collapsed": true
   },
   "outputs": [],
   "source": []
  },
  {
   "cell_type": "code",
   "execution_count": null,
   "metadata": {
    "collapsed": true
   },
   "outputs": [],
   "source": []
  },
  {
   "cell_type": "code",
   "execution_count": null,
   "metadata": {
    "collapsed": true
   },
   "outputs": [],
   "source": []
  },
  {
   "cell_type": "code",
   "execution_count": null,
   "metadata": {
    "collapsed": true
   },
   "outputs": [],
   "source": []
  },
  {
   "cell_type": "code",
   "execution_count": null,
   "metadata": {
    "collapsed": true
   },
   "outputs": [],
   "source": []
  },
  {
   "cell_type": "code",
   "execution_count": null,
   "metadata": {
    "collapsed": true
   },
   "outputs": [],
   "source": []
  },
  {
   "cell_type": "code",
   "execution_count": null,
   "metadata": {
    "collapsed": true
   },
   "outputs": [],
   "source": []
  }
 ],
 "metadata": {
  "kernelspec": {
   "display_name": "Python 3",
   "language": "python",
   "name": "python3"
  },
  "language_info": {
   "codemirror_mode": {
    "name": "ipython",
    "version": 3
   },
   "file_extension": ".py",
   "mimetype": "text/x-python",
   "name": "python",
   "nbconvert_exporter": "python",
   "pygments_lexer": "ipython3",
   "version": "3.5.2"
  }
 },
 "nbformat": 4,
 "nbformat_minor": 2
}
